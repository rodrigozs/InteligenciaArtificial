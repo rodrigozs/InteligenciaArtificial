{
  "nbformat": 4,
  "nbformat_minor": 0,
  "metadata": {
    "colab": {
      "name": "PARTIENDO__PARTE_2__TAREA_2.ipynb",
      "provenance": [],
      "collapsed_sections": []
    },
    "kernelspec": {
      "name": "python3",
      "display_name": "Python 3"
    },
    "language_info": {
      "name": "python"
    },
    "accelerator": "GPU"
  },
  "cells": [
    {
      "cell_type": "code",
      "metadata": {
        "colab": {
          "base_uri": "https://localhost:8080/"
        },
        "id": "2frxeeuYp7uF",
        "outputId": "32a67737-419f-41d2-b9a8-fdc5540b7736"
      },
      "source": [
        "import re\n",
        "import nltk\n",
        "import math\n",
        "import time\n",
        "import torch\n",
        "import torchtext\n",
        "import numpy as np\n",
        "import pandas as pd\n",
        "import seaborn as sns\n",
        "import torch.nn as nn\n",
        "nltk.download('stopwords')\n",
        "import matplotlib.pyplot as plt\n",
        "from torchtext.vocab import GloVe\n",
        "from nltk.corpus import stopwords\n",
        "from torchtext import data, datasets\n",
        "from collections import defaultdict, Counter\n",
        "from torch.utils.data import DataLoader, TensorDataset"
      ],
      "execution_count": 1,
      "outputs": [
        {
          "output_type": "stream",
          "text": [
            "[nltk_data] Downloading package stopwords to /root/nltk_data...\n",
            "[nltk_data]   Package stopwords is already up-to-date!\n"
          ],
          "name": "stdout"
        }
      ]
    },
    {
      "cell_type": "code",
      "metadata": {
        "colab": {
          "base_uri": "https://localhost:8080/"
        },
        "id": "UsUp4cWPp9dX",
        "outputId": "f84efe03-578a-477d-a3de-7da7d03c4b21"
      },
      "source": [
        "from google.colab import drive\n",
        "drive.mount('/content/drive')"
      ],
      "execution_count": 2,
      "outputs": [
        {
          "output_type": "stream",
          "text": [
            "Drive already mounted at /content/drive; to attempt to forcibly remount, call drive.mount(\"/content/drive\", force_remount=True).\n"
          ],
          "name": "stdout"
        }
      ]
    },
    {
      "cell_type": "code",
      "metadata": {
        "id": "R9MfyGSpqN9Z"
      },
      "source": [
        "with open('drive/MyDrive/DeepLearningUC/Tarea2/Actividad2/SICK.txt') as file:\n",
        "  mensajes = file.readlines()"
      ],
      "execution_count": 3,
      "outputs": []
    },
    {
      "cell_type": "code",
      "metadata": {
        "colab": {
          "base_uri": "https://localhost:8080/"
        },
        "id": "woNFfbHUy9UO",
        "outputId": "2c52dcac-00cb-49ad-f96b-5be7576a1f63"
      },
      "source": [
        "print(mensajes[0])"
      ],
      "execution_count": 4,
      "outputs": [
        {
          "output_type": "stream",
          "text": [
            "pair_ID\tsentence_A\tsentence_B\tentailment_label\trelatedness_score\tentailment_AB\tentailment_BA\tsentence_A_original\tsentence_B_original\tsentence_A_dataset\tsentence_B_dataset\tSemEval_set\n",
            "\n"
          ],
          "name": "stdout"
        }
      ]
    },
    {
      "cell_type": "code",
      "metadata": {
        "id": "D2fv_H7UrTP3"
      },
      "source": [
        "# 1: Sentence A\n",
        "# 2: Sentence B\n",
        "# 4: Relatedness_score\n",
        "# Last label: Set perteneciente\n",
        "\n",
        "all_data = []\n",
        "\n",
        "for i in range(len(mensajes)):\n",
        "  if i != 0:\n",
        "    all_data.append(mensajes[i].split('\\t'))"
      ],
      "execution_count": 5,
      "outputs": []
    },
    {
      "cell_type": "code",
      "metadata": {
        "id": "jCGMd6qUwht7"
      },
      "source": [
        "mensajes_A_train = []\n",
        "mensajes_B_train = []\n",
        "scores_train = []\n",
        "\n",
        "mensajes_A_val = []\n",
        "mensajes_B_val = []\n",
        "scores_val = []\n",
        "\n",
        "mensajes_A_test = []\n",
        "mensajes_B_test = []\n",
        "scores_test = []"
      ],
      "execution_count": 6,
      "outputs": []
    },
    {
      "cell_type": "code",
      "metadata": {
        "id": "lIOtnt5pxN4G"
      },
      "source": [
        "for i in range(len(all_data)):\n",
        "\n",
        "  if all_data[i][11] == 'TRAIN\\n':\n",
        "    mensajes_A_train.append(all_data[i][1].lower())\n",
        "    mensajes_B_train.append(all_data[i][2].lower())\n",
        "    scores_train.append(float(all_data[i][4]))\n",
        "\n",
        "  elif all_data[i][11] == 'TRIAL\\n':\n",
        "    mensajes_A_val.append(all_data[i][1].lower())\n",
        "    mensajes_B_val.append(all_data[i][2].lower())\n",
        "    scores_val.append(float(all_data[i][4]))\n",
        "\n",
        "  elif all_data[i][11] == 'TEST\\n':\n",
        "    mensajes_A_test.append(all_data[i][1].lower())\n",
        "    mensajes_B_test.append(all_data[i][2].lower())\n",
        "    scores_test.append(float(all_data[i][4]))"
      ],
      "execution_count": 7,
      "outputs": []
    },
    {
      "cell_type": "code",
      "metadata": {
        "colab": {
          "base_uri": "https://localhost:8080/"
        },
        "id": "0wrh9OHcyaDF",
        "outputId": "eb656189-f882-4ef9-c3ea-25178e4b9602"
      },
      "source": [
        "size_train = len(mensajes_A_train)\n",
        "size_val = len(mensajes_A_val)\n",
        "size_test = len(mensajes_A_test)\n",
        "\n",
        "print(\"Tamaño train: \", size_train)\n",
        "print(\"Tamaño val: \", size_val)\n",
        "print(\"Tamaño test: \", size_test)"
      ],
      "execution_count": 8,
      "outputs": [
        {
          "output_type": "stream",
          "text": [
            "Tamaño train:  4439\n",
            "Tamaño val:  495\n",
            "Tamaño test:  4906\n"
          ],
          "name": "stdout"
        }
      ]
    },
    {
      "cell_type": "code",
      "metadata": {
        "colab": {
          "base_uri": "https://localhost:8080/"
        },
        "id": "RhjdHKwwz4fd",
        "outputId": "9a76ec6c-2853-487c-c93d-0518005d2908"
      },
      "source": [
        "proporcion_train = (size_train/(size_train + size_val + size_test))*100\n",
        "proporcion_val = (size_val/(size_train + size_val + size_test))*100\n",
        "proporcion_test = (size_test/(size_train + size_val + size_test))*100\n",
        "\n",
        "print(\"Proporcion train: \", round(proporcion_train, 2))\n",
        "print(\"Proporcion val: \", round(proporcion_val, 2))\n",
        "print(\"Proporcion test: \", round(proporcion_test, 2))\n"
      ],
      "execution_count": 9,
      "outputs": [
        {
          "output_type": "stream",
          "text": [
            "Proporcion train:  45.11\n",
            "Proporcion val:  5.03\n",
            "Proporcion test:  49.86\n"
          ],
          "name": "stdout"
        }
      ]
    },
    {
      "cell_type": "code",
      "metadata": {
        "id": "sRdHRCcjyaIx"
      },
      "source": [
        "# Ahora debemos usar la codificacion Word2Vec\n",
        "# Pero primero que todo debemos realizar padding\n",
        "\n",
        "#mensajes_A_train\n",
        "#mensajes_B_train\n",
        "\n",
        "#mensajes_A_val\n",
        "#mensajes_B_val\n",
        "\n",
        "#mensajes_A_test\n",
        "#mensajes_B_test"
      ],
      "execution_count": 10,
      "outputs": []
    },
    {
      "cell_type": "code",
      "metadata": {
        "id": "ZHQd2Pv70WD0"
      },
      "source": [
        "for i in range(len(mensajes_A_train)):\n",
        "  mensajes_A_train[i] = mensajes_A_train[i].split(' ')\n",
        "\n",
        "for i in range(len(mensajes_B_train)):\n",
        "  mensajes_B_train[i] = mensajes_B_train[i].split(' ')\n",
        "\n",
        "#----------------------------------------------------------\n",
        "\n",
        "for i in range(len(mensajes_A_val)):\n",
        "  mensajes_A_val[i] = mensajes_A_val[i].split(' ')\n",
        "\n",
        "for i in range(len(mensajes_B_val)):\n",
        "  mensajes_B_val[i] = mensajes_B_val[i].split(' ')\n",
        "\n",
        "#----------------------------------------------------------\n",
        "\n",
        "for i in range(len(mensajes_A_test)):\n",
        "  mensajes_A_test[i] = mensajes_A_test[i].split(' ')\n",
        "\n",
        "for i in range(len(mensajes_B_test)):\n",
        "  mensajes_B_test[i] = mensajes_B_test[i].split(' ')"
      ],
      "execution_count": 11,
      "outputs": []
    },
    {
      "cell_type": "code",
      "metadata": {
        "id": "M3SBNnlV2ugG"
      },
      "source": [
        "largos = []\n",
        "\n",
        "#----------------------------------------------------------\n",
        "\n",
        "for i in range(len(mensajes_A_train)):\n",
        "  largos.append(len(mensajes_A_train[i]))\n",
        "\n",
        "for i in range(len(mensajes_B_train)):\n",
        "  largos.append(len(mensajes_B_train[i]))\n",
        "\n",
        "#----------------------------------------------------------\n",
        "\n",
        "for i in range(len(mensajes_A_val)):\n",
        "  largos.append(len(mensajes_A_val[i]))\n",
        "\n",
        "for i in range(len(mensajes_B_val)):\n",
        "  largos.append(len(mensajes_B_val[i]))\n",
        "\n",
        "#----------------------------------------------------------\n",
        "\n",
        "for i in range(len(mensajes_A_test)):\n",
        "  largos.append(len(mensajes_A_test[i]))\n",
        "\n",
        "for i in range(len(mensajes_B_test)):\n",
        "  largos.append(len(mensajes_B_test[i]))\n",
        "\n",
        "#----------------------------------------------------------"
      ],
      "execution_count": 12,
      "outputs": []
    },
    {
      "cell_type": "code",
      "metadata": {
        "id": "LjJUzKok3fT4"
      },
      "source": [
        "maxim_largo = max(largos)"
      ],
      "execution_count": 13,
      "outputs": []
    },
    {
      "cell_type": "code",
      "metadata": {
        "id": "9F8R8cHp3UfA"
      },
      "source": [
        "# Realizamos el PADDING\n",
        "\n",
        "for i in range(len(mensajes_A_train)):\n",
        "  while len(mensajes_A_train[i]) < maxim_largo:\n",
        "    mensajes_A_train[i].append('')\n",
        "\n",
        "for i in range(len(mensajes_B_train)):\n",
        "  while len(mensajes_B_train[i]) < maxim_largo:\n",
        "    mensajes_B_train[i].append('')\n",
        "\n",
        "#----------------------------------------------------------\n",
        "\n",
        "for i in range(len(mensajes_A_val)):\n",
        "  while len(mensajes_A_val[i]) < maxim_largo:\n",
        "    mensajes_A_val[i].append('')\n",
        "\n",
        "for i in range(len(mensajes_B_val)):\n",
        "  while len(mensajes_B_val[i]) < maxim_largo:\n",
        "    mensajes_B_val[i].append('')\n",
        "\n",
        "#----------------------------------------------------------\n",
        "\n",
        "for i in range(len(mensajes_A_test)):\n",
        "  while len(mensajes_A_test[i]) < maxim_largo:\n",
        "    mensajes_A_test[i].append('')\n",
        "\n",
        "for i in range(len(mensajes_B_test)):\n",
        "  while len(mensajes_B_test[i]) < maxim_largo:\n",
        "    mensajes_B_test[i].append('')"
      ],
      "execution_count": 14,
      "outputs": []
    },
    {
      "cell_type": "code",
      "metadata": {
        "id": "8WtZ5RhR4Cqw"
      },
      "source": [
        "# Extraemos todas las oraciones para usarlas en word2vec\n",
        "\n",
        "all_sentences = []\n",
        "\n",
        "#mensajes_A_train\n",
        "#mensajes_B_train\n",
        "\n",
        "#mensajes_A_val\n",
        "#mensajes_B_val\n",
        "\n",
        "#mensajes_A_test\n",
        "#mensajes_B_test\n",
        "\n",
        "for i in mensajes_A_train:\n",
        "  all_sentences.append(i)\n",
        "\n",
        "for i in mensajes_B_train:\n",
        "  all_sentences.append(i)\n",
        "\n",
        "#---------------------------\n",
        "\n",
        "for i in mensajes_A_val:\n",
        "  all_sentences.append(i)\n",
        "\n",
        "for i in mensajes_B_val:\n",
        "  all_sentences.append(i)\n",
        "\n",
        "#---------------------------\n",
        "\n",
        "for i in mensajes_A_test:\n",
        "  all_sentences.append(i)\n",
        "\n",
        "for i in mensajes_B_test:\n",
        "  all_sentences.append(i)"
      ],
      "execution_count": 15,
      "outputs": []
    },
    {
      "cell_type": "code",
      "metadata": {
        "id": "lyxwJmEP8POR"
      },
      "source": [
        "# Word2Vec\n",
        "\n",
        "from gensim.models import Word2Vec"
      ],
      "execution_count": 16,
      "outputs": []
    },
    {
      "cell_type": "code",
      "metadata": {
        "id": "ufVty-2b-HgP"
      },
      "source": [
        "model = Word2Vec(sentences=all_sentences, size = 300, window=5, min_count=1, workers=4)"
      ],
      "execution_count": 17,
      "outputs": []
    },
    {
      "cell_type": "code",
      "metadata": {
        "id": "DyZf9kPl-q-R"
      },
      "source": [
        "a = model.wv['boy']\n",
        "b = model.wv['girl']\n",
        "c = model.wv['ball']\n",
        "d = model.wv['man']\n",
        "e = model.wv['woman']"
      ],
      "execution_count": 18,
      "outputs": []
    },
    {
      "cell_type": "code",
      "metadata": {
        "id": "17v0_RDu-rAw"
      },
      "source": [
        "t_1 = np.linalg.norm(a-b) #Boy/Girl\n",
        "t_2 = np.linalg.norm(d-e) #Man/Woman\n",
        "t_3 = np.linalg.norm(d-a) #Man/Boy\n",
        "t_4 = np.linalg.norm(e-b) #Woman/Girl\n",
        "\n",
        "t_5 = np.linalg.norm(a-c) #Boy/Ball\n",
        "t_6 = np.linalg.norm(b-c) #Girl/Ball\n",
        "t_7 = np.linalg.norm(d-c) #Man/Ball\n",
        "t_8 = np.linalg.norm(e-c) #Woman/Ball"
      ],
      "execution_count": 19,
      "outputs": []
    },
    {
      "cell_type": "code",
      "metadata": {
        "colab": {
          "base_uri": "https://localhost:8080/"
        },
        "id": "_OfP7r36-rDc",
        "outputId": "dbfe0563-b9bf-4b46-92a4-387262c64578"
      },
      "source": [
        "t_1"
      ],
      "execution_count": 20,
      "outputs": [
        {
          "output_type": "execute_result",
          "data": {
            "text/plain": [
              "3.7938747"
            ]
          },
          "metadata": {
            "tags": []
          },
          "execution_count": 20
        }
      ]
    },
    {
      "cell_type": "code",
      "metadata": {
        "colab": {
          "base_uri": "https://localhost:8080/"
        },
        "id": "5uICYHj6-rFZ",
        "outputId": "79472002-98e9-4272-8745-57a04277ac0e"
      },
      "source": [
        "t_2"
      ],
      "execution_count": 21,
      "outputs": [
        {
          "output_type": "execute_result",
          "data": {
            "text/plain": [
              "4.443006"
            ]
          },
          "metadata": {
            "tags": []
          },
          "execution_count": 21
        }
      ]
    },
    {
      "cell_type": "code",
      "metadata": {
        "colab": {
          "base_uri": "https://localhost:8080/"
        },
        "id": "-mCLr1MgATZ6",
        "outputId": "2fcf4cc5-172c-4ffb-e041-9b0c73edef1e"
      },
      "source": [
        "t_3"
      ],
      "execution_count": 22,
      "outputs": [
        {
          "output_type": "execute_result",
          "data": {
            "text/plain": [
              "6.891575"
            ]
          },
          "metadata": {
            "tags": []
          },
          "execution_count": 22
        }
      ]
    },
    {
      "cell_type": "code",
      "metadata": {
        "colab": {
          "base_uri": "https://localhost:8080/"
        },
        "id": "uInzPjh9Bfpe",
        "outputId": "dd3728d5-901d-46e2-baa5-34e965abd872"
      },
      "source": [
        "t_4"
      ],
      "execution_count": 23,
      "outputs": [
        {
          "output_type": "execute_result",
          "data": {
            "text/plain": [
              "8.313189"
            ]
          },
          "metadata": {
            "tags": []
          },
          "execution_count": 23
        }
      ]
    },
    {
      "cell_type": "code",
      "metadata": {
        "colab": {
          "base_uri": "https://localhost:8080/"
        },
        "id": "rmPCosdeBhw7",
        "outputId": "f32ddd4c-46c9-4e68-88d1-f69013d98c3c"
      },
      "source": [
        "t_5"
      ],
      "execution_count": 24,
      "outputs": [
        {
          "output_type": "execute_result",
          "data": {
            "text/plain": [
              "9.125274"
            ]
          },
          "metadata": {
            "tags": []
          },
          "execution_count": 24
        }
      ]
    },
    {
      "cell_type": "code",
      "metadata": {
        "colab": {
          "base_uri": "https://localhost:8080/"
        },
        "id": "mP_q6hZoBjQy",
        "outputId": "50fd823c-335e-4d3e-fc94-5fe3ad94f4d4"
      },
      "source": [
        "t_6"
      ],
      "execution_count": 25,
      "outputs": [
        {
          "output_type": "execute_result",
          "data": {
            "text/plain": [
              "10.795775"
            ]
          },
          "metadata": {
            "tags": []
          },
          "execution_count": 25
        }
      ]
    },
    {
      "cell_type": "code",
      "metadata": {
        "colab": {
          "base_uri": "https://localhost:8080/"
        },
        "id": "kGNTjLy2BkZA",
        "outputId": "4fb6e254-209e-4e82-a3c0-580bfdb98678"
      },
      "source": [
        "t_7"
      ],
      "execution_count": 26,
      "outputs": [
        {
          "output_type": "execute_result",
          "data": {
            "text/plain": [
              "11.414353"
            ]
          },
          "metadata": {
            "tags": []
          },
          "execution_count": 26
        }
      ]
    },
    {
      "cell_type": "code",
      "metadata": {
        "colab": {
          "base_uri": "https://localhost:8080/"
        },
        "id": "ogCH_ot6BmuX",
        "outputId": "b6e03fc6-dd73-4547-a223-3fe7557e05e4"
      },
      "source": [
        "t_8"
      ],
      "execution_count": 27,
      "outputs": [
        {
          "output_type": "execute_result",
          "data": {
            "text/plain": [
              "13.167866"
            ]
          },
          "metadata": {
            "tags": []
          },
          "execution_count": 27
        }
      ]
    },
    {
      "cell_type": "code",
      "metadata": {
        "id": "WpZ_SMDcBuYJ"
      },
      "source": [
        "#mensajes_A_train\n",
        "#mensajes_B_train\n",
        "\n",
        "#mensajes_A_val\n",
        "#mensajes_B_val\n",
        "\n",
        "#mensajes_A_test\n",
        "#mensajes_B_test"
      ],
      "execution_count": 28,
      "outputs": []
    },
    {
      "cell_type": "code",
      "metadata": {
        "id": "ArKJwkd_QK7p"
      },
      "source": [
        "def calcular_promedio(lista_frase):\n",
        "  lista_promedio = []\n",
        "  for i in range(len(lista_frase[0])):\n",
        "    suma = 0\n",
        "    for j in range(len(lista_frase)):\n",
        "      suma = suma + lista_frase[j][i]\n",
        "    suma = suma/len(lista_frase)\n",
        "    lista_promedio.append([suma])\n",
        "  return lista_promedio"
      ],
      "execution_count": 29,
      "outputs": []
    },
    {
      "cell_type": "code",
      "metadata": {
        "id": "cf7draGtBua_"
      },
      "source": [
        "input_seq_A_train = []\n",
        "\n",
        "for i in range(len(mensajes_A_train)):\n",
        "  lista_frase = []\n",
        "  for j in range(len(mensajes_A_train[i])):\n",
        "    word = mensajes_A_train[i][j]\n",
        "    lista_frase.append(model.wv[word])\n",
        "  lista_agregar = lista_frase\n",
        "  input_seq_A_train.append(lista_agregar)"
      ],
      "execution_count": 30,
      "outputs": []
    },
    {
      "cell_type": "code",
      "metadata": {
        "id": "u4g8THoiSMk3"
      },
      "source": [
        "input_seq_B_train = []\n",
        "\n",
        "for i in range(len(mensajes_B_train)):\n",
        "  lista_frase = []\n",
        "  for j in range(len(mensajes_B_train[i])):\n",
        "    word = mensajes_B_train[i][j]\n",
        "    lista_frase.append(model.wv[word])\n",
        "  lista_agregar = lista_frase\n",
        "  input_seq_B_train.append(lista_agregar)"
      ],
      "execution_count": 31,
      "outputs": []
    },
    {
      "cell_type": "code",
      "metadata": {
        "id": "QDHCdvFHShpW"
      },
      "source": [
        "input_seq_A_val = []\n",
        "\n",
        "for i in range(len(mensajes_A_val)):\n",
        "  lista_frase = []\n",
        "  for j in range(len(mensajes_A_val[i])):\n",
        "    word = mensajes_A_val[i][j]\n",
        "    lista_frase.append(model.wv[word])\n",
        "  lista_agregar = lista_frase\n",
        "  input_seq_A_val.append(lista_agregar)"
      ],
      "execution_count": 32,
      "outputs": []
    },
    {
      "cell_type": "code",
      "metadata": {
        "id": "edwT8rnBSmZ-"
      },
      "source": [
        "input_seq_B_val = []\n",
        "\n",
        "for i in range(len(mensajes_B_val)):\n",
        "  lista_frase = []\n",
        "  for j in range(len(mensajes_B_val[i])):\n",
        "    word = mensajes_B_val[i][j]\n",
        "    lista_frase.append(model.wv[word])\n",
        "  lista_agregar = lista_frase\n",
        "  input_seq_B_val.append(lista_agregar)"
      ],
      "execution_count": 33,
      "outputs": []
    },
    {
      "cell_type": "code",
      "metadata": {
        "id": "V4ypHZyWSmdZ"
      },
      "source": [
        "input_seq_A_test = []\n",
        "\n",
        "for i in range(len(mensajes_A_test)):\n",
        "  lista_frase = []\n",
        "  for j in range(len(mensajes_A_test[i])):\n",
        "    word = mensajes_A_test[i][j]\n",
        "    lista_frase.append(model.wv[word])\n",
        "  lista_agregar = lista_frase\n",
        "  input_seq_A_test.append(lista_agregar)"
      ],
      "execution_count": 34,
      "outputs": []
    },
    {
      "cell_type": "code",
      "metadata": {
        "id": "80aQ7SCiS619"
      },
      "source": [
        "input_seq_B_test = []\n",
        "\n",
        "for i in range(len(mensajes_B_test)):\n",
        "  lista_frase = []\n",
        "  for j in range(len(mensajes_B_test[i])):\n",
        "    word = mensajes_B_test[i][j]\n",
        "    lista_frase.append(model.wv[word])\n",
        "  lista_agregar = lista_frase\n",
        "  input_seq_B_test.append(lista_agregar)"
      ],
      "execution_count": 35,
      "outputs": []
    },
    {
      "cell_type": "code",
      "metadata": {
        "id": "MT-PIkZfS649"
      },
      "source": [
        "input_seq_A_train = torch.tensor(input_seq_A_train)\n",
        "input_seq_B_train = torch.tensor(input_seq_B_train)\n",
        "\n",
        "input_seq_A_val = torch.tensor(input_seq_A_val)\n",
        "input_seq_B_val = torch.tensor(input_seq_B_val)\n",
        "\n",
        "input_seq_A_test = torch.tensor(input_seq_A_test)\n",
        "input_seq_B_test = torch.tensor(input_seq_B_test)"
      ],
      "execution_count": 36,
      "outputs": []
    },
    {
      "cell_type": "code",
      "metadata": {
        "colab": {
          "base_uri": "https://localhost:8080/"
        },
        "id": "roC4scFaS67x",
        "outputId": "f09d7dab-23d3-409e-aff6-9c475c07b5b9"
      },
      "source": [
        "# torch.cuda.is_available() checks and returns a Boolean True if a GPU is available, else it'll return False\n",
        "is_cuda = torch.cuda.is_available()\n",
        "\n",
        "# If we have a GPU available, we'll set our device to GPU. We'll use this device variable later in our code.\n",
        "if is_cuda:\n",
        "    device = torch.device(\"cuda\")\n",
        "    print(\"GPU is available\")    \n",
        "else:\n",
        "    device = torch.device(\"cpu\")\n",
        "    print(\"GPU not available, CPU used\")"
      ],
      "execution_count": 37,
      "outputs": [
        {
          "output_type": "stream",
          "text": [
            "GPU is available\n"
          ],
          "name": "stdout"
        }
      ]
    },
    {
      "cell_type": "code",
      "metadata": {
        "id": "Z_6XSsjbSmhx"
      },
      "source": [
        "input_seq_A_train = input_seq_A_train.to(device)\n",
        "input_seq_B_train = input_seq_B_train.to(device)\n",
        "\n",
        "input_seq_A_val = input_seq_A_val.to(device)\n",
        "input_seq_B_val = input_seq_B_val.to(device)\n",
        "\n",
        "input_seq_A_test = input_seq_A_test.to(device)\n",
        "input_seq_B_test = input_seq_B_test.to(device)"
      ],
      "execution_count": 38,
      "outputs": []
    },
    {
      "cell_type": "code",
      "metadata": {
        "id": "fd5JlvUgb6nF"
      },
      "source": [
        "input_seq_train = torch.cat((input_seq_A_train, input_seq_B_train), 0)\n",
        "input_seq_val = torch.cat((input_seq_A_val, input_seq_B_val), 0)\n",
        "input_seq_test = torch.cat((input_seq_A_test, input_seq_B_test), 0)"
      ],
      "execution_count": 39,
      "outputs": []
    },
    {
      "cell_type": "code",
      "metadata": {
        "id": "W2pPFZK-or16"
      },
      "source": [
        "corte = 3 # Cut score\n",
        "y_train = []\n",
        "\n",
        "for i in range(len(scores_train)):\n",
        "  if scores_train[i] >= corte:\n",
        "    y_train.append(1)\n",
        "  else:\n",
        "    y_train.append(0)"
      ],
      "execution_count": 40,
      "outputs": []
    },
    {
      "cell_type": "code",
      "metadata": {
        "id": "KyYV8HfJoxzp"
      },
      "source": [
        "y_train = torch.tensor(y_train)"
      ],
      "execution_count": 41,
      "outputs": []
    },
    {
      "cell_type": "code",
      "metadata": {
        "id": "Gl7X0NQco2RU"
      },
      "source": [
        "y_train = y_train.to(device)"
      ],
      "execution_count": 42,
      "outputs": []
    },
    {
      "cell_type": "code",
      "metadata": {
        "id": "FUdkmX-Iz_QT"
      },
      "source": [
        "corte = 3 # Cut score\n",
        "y_val = []\n",
        "\n",
        "for i in range(len(scores_val)):\n",
        "  if scores_val[i] >= corte:\n",
        "    y_val.append(1)\n",
        "  else:\n",
        "    y_val.append(0)"
      ],
      "execution_count": 43,
      "outputs": []
    },
    {
      "cell_type": "code",
      "metadata": {
        "id": "SYF0cg9Z1V_5"
      },
      "source": [
        "corte = 3 # Cut score\n",
        "y_test = []\n",
        "\n",
        "for i in range(len(scores_test)):\n",
        "  if scores_test[i] >= corte:\n",
        "    y_test.append(1)\n",
        "  else:\n",
        "    y_test.append(0)"
      ],
      "execution_count": 44,
      "outputs": []
    },
    {
      "cell_type": "code",
      "metadata": {
        "id": "PQUdfQxEo7ez"
      },
      "source": [
        "def pair_rkg_loss(out_1, out_2, y, m):\n",
        "  total_loss = 0\n",
        "  total_loss = torch.tensor(total_loss)\n",
        "  total_loss.to(device)\n",
        "\n",
        "  for i in range(len(out_1)):\n",
        "    o_1 = out_1[i]\n",
        "    o_2 = out_2[i]\n",
        "\n",
        "    dist = torch.norm(o_1 - o_2)\n",
        "\n",
        "    loss_1 = y[i]*dist\n",
        "    loss_2 = (1-y[i])*max(0, (m-dist))\n",
        "\n",
        "    loss = loss_1 + loss_2\n",
        "\n",
        "    total_loss = total_loss + loss\n",
        "  \n",
        "  total_loss = total_loss/len(out_1)\n",
        "\n",
        "  return total_loss.to(device)"
      ],
      "execution_count": 45,
      "outputs": []
    },
    {
      "cell_type": "code",
      "metadata": {
        "id": "VyFla0SabR0O"
      },
      "source": [
        "# Ahora partimos creando la red"
      ],
      "execution_count": 46,
      "outputs": []
    },
    {
      "cell_type": "code",
      "metadata": {
        "id": "ryTiE4TybR3E"
      },
      "source": [
        "class SIAMESE_model(nn.Module):\n",
        "    def __init__(self, input_size, hidden_dim, n_layers, device):\n",
        "        super(SIAMESE_model, self).__init__()\n",
        "\n",
        "        self.hidden_dim = hidden_dim\n",
        "        self.n_layers = n_layers\n",
        "\n",
        "        self.lstm = nn.LSTM(input_size, hidden_dim, n_layers, batch_first=True)\n",
        "\n",
        "        self.device = device\n",
        "    \n",
        "    def forward(self, x):\n",
        "        \n",
        "        batch_size = int(x.size(0)/2)\n",
        "\n",
        "        h_1 = self.init_hidden(batch_size)\n",
        "        c_1 = self.init_hidden(batch_size)\n",
        "\n",
        "        h_2 = self.init_hidden(batch_size)\n",
        "        c_2 = self.init_hidden(batch_size)\n",
        "\n",
        "        input_A = x[0:int(len(x)/2)]\n",
        "        input_B = x[int(len(x)/2): len(x)]\n",
        "\n",
        "        input_A.to(self.device)\n",
        "        input_B.to(self.device)\n",
        "\n",
        "        out_1, (h_1, c_1) = self.lstm(input_A, (h_1, c_1))\n",
        "\n",
        "        out_2, (h_2, c_2) = self.lstm(input_B, (h_2, c_2))\n",
        "        \n",
        "        return out_1.to(self.device), out_2.to(self.device), (h_1.to(self.device), c_1.to(self.device)), (h_2.to(self.device), c_2.to(self.device))\n",
        "    \n",
        "    def init_hidden(self, batch_size):\n",
        "        hidden = torch.zeros(self.n_layers, batch_size, self.hidden_dim)\n",
        "        return hidden.to(self.device)"
      ],
      "execution_count": 47,
      "outputs": []
    },
    {
      "cell_type": "code",
      "metadata": {
        "id": "DtbAeF5pbR5r"
      },
      "source": [
        "model = SIAMESE_model(300, 10, 1, device)\n",
        "model.to(device)\n",
        "\n",
        "n_epochs = 100\n",
        "lr = 0.01*5\n",
        "m = 10\n",
        "\n",
        "optimizer = torch.optim.Adam(model.parameters(), lr=lr)"
      ],
      "execution_count": 48,
      "outputs": []
    },
    {
      "cell_type": "code",
      "metadata": {
        "colab": {
          "base_uri": "https://localhost:8080/"
        },
        "id": "_UuserBjbR78",
        "outputId": "6f64563b-f17d-4ba0-c58a-e68308906003"
      },
      "source": [
        "# Entrenamiento\n",
        "\n",
        "epocas_totales = []\n",
        "loss_train_totales = []\n",
        "loss_val_totales = []\n",
        "loss_test_totales = []\n",
        "\n",
        "for epoch in range(1, n_epochs + 1):\n",
        "\n",
        "  start = time.time()\n",
        "\n",
        "  model.train()\n",
        "\n",
        "  optimizer.zero_grad() # Clears existing gradients from previous epoch\n",
        "\n",
        "  out_1, out_2, _, _ = model(input_seq_train)\n",
        "\n",
        "  loss_train = pair_rkg_loss(out_1, out_2, y_train, m)\n",
        "\n",
        "  loss_train.backward() # Does backpropagation and calculates gradients\n",
        "  optimizer.step() # Updates the weights accordingly\n",
        "\n",
        "  model.eval()\n",
        "\n",
        "  out_1_val, out_2_val, _, _ = model(input_seq_val)\n",
        "  loss_val = pair_rkg_loss(out_1_val, out_2_val, y_val, m)\n",
        "\n",
        "  loss_val_totales.append(loss_val)\n",
        "\n",
        "  out_1_test, out_2_test, _, _ = model(input_seq_test)\n",
        "  loss_test = pair_rkg_loss(out_1_test, out_2_test, y_test, m)\n",
        "\n",
        "  loss_test_totales.append(loss_test)\n",
        "\n",
        "\n",
        "\n",
        "  epocas_totales.append(epoch)\n",
        "\n",
        "  loss_train_totales.append(loss_train.item())\n",
        "\n",
        "  end = time.time()\n",
        "\n",
        "  print('Epoch: {}/{}.............'.format(epoch, n_epochs), end=' ')\n",
        "  print(\"Loss Train Epoch: {:.4f}.............\".format(loss_train.item()), end =' ')\n",
        "  print(\"Time Epoch: {}\".format(end-start))  "
      ],
      "execution_count": 49,
      "outputs": [
        {
          "output_type": "stream",
          "text": [
            "Epoch: 1/100............. Loss Train Epoch: 3.3075............. Time Epoch: 2.581993818283081\n",
            "Epoch: 2/100............. Loss Train Epoch: 2.6837............. Time Epoch: 2.5784761905670166\n",
            "Epoch: 3/100............. Loss Train Epoch: 2.5038............. Time Epoch: 2.5633139610290527\n",
            "Epoch: 4/100............. Loss Train Epoch: 2.4523............. Time Epoch: 2.539755344390869\n",
            "Epoch: 5/100............. Loss Train Epoch: 2.4329............. Time Epoch: 2.5786709785461426\n",
            "Epoch: 6/100............. Loss Train Epoch: 2.4238............. Time Epoch: 2.5452911853790283\n",
            "Epoch: 7/100............. Loss Train Epoch: 2.4185............. Time Epoch: 2.5849688053131104\n",
            "Epoch: 8/100............. Loss Train Epoch: 2.4149............. Time Epoch: 2.5437350273132324\n",
            "Epoch: 9/100............. Loss Train Epoch: 2.4124............. Time Epoch: 2.5553956031799316\n",
            "Epoch: 10/100............. Loss Train Epoch: 2.4106............. Time Epoch: 2.588533401489258\n",
            "Epoch: 11/100............. Loss Train Epoch: 2.4093............. Time Epoch: 2.5373306274414062\n",
            "Epoch: 12/100............. Loss Train Epoch: 2.4083............. Time Epoch: 2.5316731929779053\n",
            "Epoch: 13/100............. Loss Train Epoch: 2.4075............. Time Epoch: 2.5446178913116455\n",
            "Epoch: 14/100............. Loss Train Epoch: 2.4069............. Time Epoch: 2.5883824825286865\n",
            "Epoch: 15/100............. Loss Train Epoch: 2.4064............. Time Epoch: 2.577211618423462\n",
            "Epoch: 16/100............. Loss Train Epoch: 2.4060............. Time Epoch: 2.6109628677368164\n",
            "Epoch: 17/100............. Loss Train Epoch: 2.4056............. Time Epoch: 2.5705182552337646\n",
            "Epoch: 18/100............. Loss Train Epoch: 2.4053............. Time Epoch: 2.5988595485687256\n",
            "Epoch: 19/100............. Loss Train Epoch: 2.4050............. Time Epoch: 2.5680418014526367\n",
            "Epoch: 20/100............. Loss Train Epoch: 2.4046............. Time Epoch: 2.609809637069702\n",
            "Epoch: 21/100............. Loss Train Epoch: 2.4044............. Time Epoch: 2.6787095069885254\n",
            "Epoch: 22/100............. Loss Train Epoch: 2.4041............. Time Epoch: 2.61378812789917\n",
            "Epoch: 23/100............. Loss Train Epoch: 2.4038............. Time Epoch: 2.5978641510009766\n",
            "Epoch: 24/100............. Loss Train Epoch: 2.4036............. Time Epoch: 2.578056812286377\n",
            "Epoch: 25/100............. Loss Train Epoch: 2.4034............. Time Epoch: 2.5751123428344727\n",
            "Epoch: 26/100............. Loss Train Epoch: 2.4032............. Time Epoch: 2.558664083480835\n",
            "Epoch: 27/100............. Loss Train Epoch: 2.4031............. Time Epoch: 2.571925401687622\n",
            "Epoch: 28/100............. Loss Train Epoch: 2.4029............. Time Epoch: 2.5932364463806152\n",
            "Epoch: 29/100............. Loss Train Epoch: 2.4028............. Time Epoch: 2.5700876712799072\n",
            "Epoch: 30/100............. Loss Train Epoch: 2.4027............. Time Epoch: 2.5667543411254883\n",
            "Epoch: 31/100............. Loss Train Epoch: 2.4026............. Time Epoch: 2.582502841949463\n",
            "Epoch: 32/100............. Loss Train Epoch: 2.4025............. Time Epoch: 2.58449649810791\n",
            "Epoch: 33/100............. Loss Train Epoch: 2.4024............. Time Epoch: 2.5823473930358887\n",
            "Epoch: 34/100............. Loss Train Epoch: 2.4023............. Time Epoch: 2.588852643966675\n",
            "Epoch: 35/100............. Loss Train Epoch: 2.4022............. Time Epoch: 2.5538179874420166\n",
            "Epoch: 36/100............. Loss Train Epoch: 2.4021............. Time Epoch: 2.564281940460205\n",
            "Epoch: 37/100............. Loss Train Epoch: 2.4020............. Time Epoch: 2.567702531814575\n",
            "Epoch: 38/100............. Loss Train Epoch: 2.4019............. Time Epoch: 2.55706787109375\n",
            "Epoch: 39/100............. Loss Train Epoch: 2.4018............. Time Epoch: 2.5593926906585693\n",
            "Epoch: 40/100............. Loss Train Epoch: 2.4018............. Time Epoch: 2.5698347091674805\n",
            "Epoch: 41/100............. Loss Train Epoch: 2.4017............. Time Epoch: 2.6431679725646973\n",
            "Epoch: 42/100............. Loss Train Epoch: 2.4016............. Time Epoch: 2.5683987140655518\n",
            "Epoch: 43/100............. Loss Train Epoch: 2.4016............. Time Epoch: 2.5377955436706543\n",
            "Epoch: 44/100............. Loss Train Epoch: 2.4015............. Time Epoch: 2.5722639560699463\n",
            "Epoch: 45/100............. Loss Train Epoch: 2.4015............. Time Epoch: 2.592442274093628\n",
            "Epoch: 46/100............. Loss Train Epoch: 2.4014............. Time Epoch: 2.5681867599487305\n",
            "Epoch: 47/100............. Loss Train Epoch: 2.4014............. Time Epoch: 2.581725597381592\n",
            "Epoch: 48/100............. Loss Train Epoch: 2.4013............. Time Epoch: 2.5963995456695557\n",
            "Epoch: 49/100............. Loss Train Epoch: 2.4013............. Time Epoch: 2.5818541049957275\n",
            "Epoch: 50/100............. Loss Train Epoch: 2.4012............. Time Epoch: 2.564176082611084\n",
            "Epoch: 51/100............. Loss Train Epoch: 2.4012............. Time Epoch: 2.566086769104004\n",
            "Epoch: 52/100............. Loss Train Epoch: 2.4012............. Time Epoch: 2.5591671466827393\n",
            "Epoch: 53/100............. Loss Train Epoch: 2.4011............. Time Epoch: 2.5718939304351807\n",
            "Epoch: 54/100............. Loss Train Epoch: 2.4011............. Time Epoch: 2.548250198364258\n",
            "Epoch: 55/100............. Loss Train Epoch: 2.4011............. Time Epoch: 2.558712959289551\n",
            "Epoch: 56/100............. Loss Train Epoch: 2.4010............. Time Epoch: 2.5648810863494873\n",
            "Epoch: 57/100............. Loss Train Epoch: 2.4010............. Time Epoch: 2.584292411804199\n",
            "Epoch: 58/100............. Loss Train Epoch: 2.4010............. Time Epoch: 2.5661141872406006\n",
            "Epoch: 59/100............. Loss Train Epoch: 2.4009............. Time Epoch: 2.5516257286071777\n",
            "Epoch: 60/100............. Loss Train Epoch: 2.4009............. Time Epoch: 2.555438756942749\n",
            "Epoch: 61/100............. Loss Train Epoch: 2.4009............. Time Epoch: 2.5614092350006104\n",
            "Epoch: 62/100............. Loss Train Epoch: 2.4008............. Time Epoch: 2.5657174587249756\n",
            "Epoch: 63/100............. Loss Train Epoch: 2.4008............. Time Epoch: 2.54681658744812\n",
            "Epoch: 64/100............. Loss Train Epoch: 2.4008............. Time Epoch: 2.5672812461853027\n",
            "Epoch: 65/100............. Loss Train Epoch: 2.4007............. Time Epoch: 2.5400195121765137\n",
            "Epoch: 66/100............. Loss Train Epoch: 2.4007............. Time Epoch: 2.601855754852295\n",
            "Epoch: 67/100............. Loss Train Epoch: 2.4007............. Time Epoch: 2.576915979385376\n",
            "Epoch: 68/100............. Loss Train Epoch: 2.4006............. Time Epoch: 2.5772321224212646\n",
            "Epoch: 69/100............. Loss Train Epoch: 2.4006............. Time Epoch: 2.5812413692474365\n",
            "Epoch: 70/100............. Loss Train Epoch: 2.4006............. Time Epoch: 2.5876951217651367\n",
            "Epoch: 71/100............. Loss Train Epoch: 2.4006............. Time Epoch: 2.551590919494629\n",
            "Epoch: 72/100............. Loss Train Epoch: 2.4006............. Time Epoch: 2.535430431365967\n",
            "Epoch: 73/100............. Loss Train Epoch: 2.4005............. Time Epoch: 2.5628535747528076\n",
            "Epoch: 74/100............. Loss Train Epoch: 2.4005............. Time Epoch: 2.573549509048462\n",
            "Epoch: 75/100............. Loss Train Epoch: 2.4005............. Time Epoch: 2.5999104976654053\n",
            "Epoch: 76/100............. Loss Train Epoch: 2.4005............. Time Epoch: 2.5816986560821533\n",
            "Epoch: 77/100............. Loss Train Epoch: 2.4005............. Time Epoch: 2.5872979164123535\n",
            "Epoch: 78/100............. Loss Train Epoch: 2.4004............. Time Epoch: 2.5811007022857666\n",
            "Epoch: 79/100............. Loss Train Epoch: 2.4004............. Time Epoch: 2.5869874954223633\n",
            "Epoch: 80/100............. Loss Train Epoch: 2.4004............. Time Epoch: 2.584322452545166\n",
            "Epoch: 81/100............. Loss Train Epoch: 2.4004............. Time Epoch: 2.548034906387329\n",
            "Epoch: 82/100............. Loss Train Epoch: 2.4004............. Time Epoch: 2.5753471851348877\n",
            "Epoch: 83/100............. Loss Train Epoch: 2.4003............. Time Epoch: 2.5949714183807373\n",
            "Epoch: 84/100............. Loss Train Epoch: 2.4003............. Time Epoch: 2.7395291328430176\n",
            "Epoch: 85/100............. Loss Train Epoch: 2.4003............. Time Epoch: 2.5687129497528076\n",
            "Epoch: 86/100............. Loss Train Epoch: 2.4003............. Time Epoch: 2.562394142150879\n",
            "Epoch: 87/100............. Loss Train Epoch: 2.4003............. Time Epoch: 2.5618629455566406\n",
            "Epoch: 88/100............. Loss Train Epoch: 2.4003............. Time Epoch: 2.562828302383423\n",
            "Epoch: 89/100............. Loss Train Epoch: 2.4003............. Time Epoch: 2.5709969997406006\n",
            "Epoch: 90/100............. Loss Train Epoch: 2.4002............. Time Epoch: 2.5702126026153564\n",
            "Epoch: 91/100............. Loss Train Epoch: 2.4002............. Time Epoch: 2.564877510070801\n",
            "Epoch: 92/100............. Loss Train Epoch: 2.4002............. Time Epoch: 2.5681731700897217\n",
            "Epoch: 93/100............. Loss Train Epoch: 2.4002............. Time Epoch: 2.554030179977417\n",
            "Epoch: 94/100............. Loss Train Epoch: 2.4002............. Time Epoch: 2.5764997005462646\n",
            "Epoch: 95/100............. Loss Train Epoch: 2.4002............. Time Epoch: 2.590319871902466\n",
            "Epoch: 96/100............. Loss Train Epoch: 2.4002............. Time Epoch: 2.6043927669525146\n",
            "Epoch: 97/100............. Loss Train Epoch: 2.4002............. Time Epoch: 2.558795928955078\n",
            "Epoch: 98/100............. Loss Train Epoch: 2.4001............. Time Epoch: 2.583618402481079\n",
            "Epoch: 99/100............. Loss Train Epoch: 2.4001............. Time Epoch: 2.562333822250366\n",
            "Epoch: 100/100............. Loss Train Epoch: 2.4001............. Time Epoch: 2.5730369091033936\n"
          ],
          "name": "stdout"
        }
      ]
    },
    {
      "cell_type": "code",
      "metadata": {
        "id": "mhrFhDUzQjCj",
        "colab": {
          "base_uri": "https://localhost:8080/",
          "height": 428
        },
        "outputId": "c264f548-2716-4631-d453-84ef90b0fbd6"
      },
      "source": [
        "plt.figure(figsize=(10,7))\n",
        "\n",
        "plt.plot(epocas_totales, loss_train_totales, color = \"red\")\n",
        "plt.plot(epocas_totales, loss_val_totales, color = \"blue\")\n",
        "plt.plot(epocas_totales, loss_test_totales, color = \"green\")\n",
        "plt.legend(['Perdida de Entrenamiento', 'Perdida de Validación', 'Perdida de Test'], loc='upper left')\n",
        "\n",
        "#plt.yscale('log')\n",
        "\n",
        "plt.show()\n",
        "\n",
        "# loss_final = 2.4 if lr_optimo = 0.01*5 "
      ],
      "execution_count": 52,
      "outputs": [
        {
          "output_type": "display_data",
          "data": {
            "image/png": "[encoded data removed]",
            "text/plain": [
              "<Figure size 720x504 with 1 Axes>"
            ]
          },
          "metadata": {
            "tags": [],
            "needs_background": "light"
          }
        }
      ]
    },
    {
      "cell_type": "code",
      "metadata": {
        "id": "4BUedNWeu9Qi"
      },
      "source": [
        ""
      ],
      "execution_count": 50,
      "outputs": []
    }
  ]
}