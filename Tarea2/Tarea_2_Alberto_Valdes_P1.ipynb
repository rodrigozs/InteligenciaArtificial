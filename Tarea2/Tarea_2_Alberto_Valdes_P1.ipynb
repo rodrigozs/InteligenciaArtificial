{
 "cells": [
  {
   "cell_type": "markdown",
   "metadata": {
    "id": "JnwO1wJSVhP7"
   },
   "source": [
    "$ \\huge{1. \\ Redes \\ Neuronales \\ Recurrentes: RNN} $"
   ]
  },
  {
   "cell_type": "code",
   "execution_count": 1,
   "metadata": {
    "colab": {
     "base_uri": "https://localhost:8080/"
    },
    "id": "qFjGqmVUdzFL",
    "outputId": "ad438add-f163-4822-ac03-7cca6c58993d"
   },
   "outputs": [
    {
     "name": "stdout",
     "output_type": "stream",
     "text": [
      "[nltk_data] Downloading package stopwords to /root/nltk_data...\n",
      "[nltk_data]   Package stopwords is already up-to-date!\n"
     ]
    }
   ],
   "source": [
    "import re\n",
    "import nltk\n",
    "import math\n",
    "import time\n",
    "import torch\n",
    "import torchtext\n",
    "import numpy as np\n",
    "import pandas as pd\n",
    "import seaborn as sns\n",
    "import torch.nn as nn\n",
    "nltk.download('stopwords')\n",
    "import matplotlib.pyplot as plt\n",
    "from torchtext.vocab import GloVe\n",
    "from nltk.corpus import stopwords\n",
    "from torchtext import data, datasets\n",
    "from collections import defaultdict, Counter\n",
    "from torch.utils.data import DataLoader, TensorDataset"
   ]
  },
  {
   "cell_type": "code",
   "execution_count": 2,
   "metadata": {
    "colab": {
     "base_uri": "https://localhost:8080/"
    },
    "id": "olPqZuREd2zo",
    "outputId": "c0c9cf4a-699c-4c5c-d084-0f5fa038a6be"
   },
   "outputs": [
    {
     "name": "stdout",
     "output_type": "stream",
     "text": [
      "Drive already mounted at /content/drive; to attempt to forcibly remount, call drive.mount(\"/content/drive\", force_remount=True).\n"
     ]
    }
   ],
   "source": [
    "from google.colab import drive\n",
    "drive.mount('/content/drive')"
   ]
  },
  {
   "cell_type": "code",
   "execution_count": 3,
   "metadata": {
    "id": "ERAVu0UrCXg1"
   },
   "outputs": [],
   "source": [
    "class Model(nn.Module):\n",
    "    def __init__(self, input_size, output_size, hidden_dim, n_layers, device, dict_size):\n",
    "        super(Model, self).__init__()\n",
    "\n",
    "        # Defining some parameters\n",
    "        self.hidden_dim = hidden_dim\n",
    "        self.n_layers = n_layers\n",
    "\n",
    "        #Defining the layers\n",
    "        # RNN Layer\n",
    "\n",
    "        self.embedding = nn.Embedding(dict_size, input_size)\n",
    "\n",
    "        self.rnn = nn.RNN(input_size, hidden_dim, n_layers, batch_first=True)   \n",
    "        # Fully connected layer\n",
    "        self.fc = nn.Linear(hidden_dim, output_size)\n",
    "\n",
    "        self.softmax = nn.Softmax(dim=-1)\n",
    "\n",
    "        self.device = device\n",
    "    \n",
    "    def forward(self, x):\n",
    "        \n",
    "        batch_size = x.size(0)\n",
    "\n",
    "        x = self.embedding(x)\n",
    "\n",
    "        x = x[:,:,0,:]\n",
    "\n",
    "        # Initializing hidden state for first input using method defined below\n",
    "        hidden = self.init_hidden(batch_size)\n",
    "\n",
    "        # Passing in the input and hidden state into the model and obtaining outputs\n",
    "        out, hidden = self.rnn(x, hidden)\n",
    "        \n",
    "        # Reshaping the outputs such that it can be fit into the fully connected layer\n",
    "        out = out.contiguous().view(-1, self.hidden_dim)\n",
    "        out = self.fc(out)\n",
    "        out = self.softmax(out)\n",
    "        \n",
    "        return out, hidden.to(self.device)\n",
    "    \n",
    "    def init_hidden(self, batch_size):\n",
    "        # This method generates the first hidden state of zeros which we'll use in the forward pass\n",
    "        # We'll send the tensor holding the hidden state to the device we specified earlier as well\n",
    "        hidden = torch.zeros(self.n_layers, batch_size, self.hidden_dim)\n",
    "        return hidden.to(self.device)"
   ]
  },
  {
   "cell_type": "markdown",
   "metadata": {
    "id": "la-q8QW4FABa"
   },
   "source": [
    "## **Actividad 1:**"
   ]
  },
  {
   "cell_type": "markdown",
   "metadata": {
    "id": "zAMVqvVsGeez"
   },
   "source": [
    "El embedding utilizado consistirá en lo que se denomina **bolsa de palabras**. El proceso consiste en lo siguiente: \n",
    "\n",
    "$ \\ \\ $\n",
    "\n",
    "1. Agrupamos todos los mensajes, tanto los correspondientes a \"spam\" como a \"no spam\". De todos estos mensajes sacamos todas las frases y creamos un diccionario que asocie a cada frase a un número.\n",
    "\n",
    "2. Luego de que tenemos creado el diccionario que asocia a cada frase un número (phrase2int) creamos el diccionario que asocia a cada numero una frase (int2phrase). \n",
    "\n",
    "3. Como todas las oraciones tendrán distinto largo lo que haremos será un padding analogo a \"PadSequence\" para dejar a todas las oraciones del mismo largo. \n",
    "\n",
    "4. Con los diccionarios ya creados le asociamos a cada oración un vector de dimensión igual al largo de la frase oración en cada componente tienen el numero asociado al caracter respectivo.\n",
    "\n",
    "5. Luego de lo ya mencionado, aplicamos un embedding al vector asociado a cada oración. Este embedding hace que frases similares esten a una distinacia menor que frases distintas. Este embedding es entrenable y se entranará con todo el resto de la red.\n",
    "\n",
    "$ \\ \\ $"
   ]
  },
  {
   "cell_type": "markdown",
   "metadata": {
    "id": "5fF9at6KgScS"
   },
   "source": [
    "## **Actividad 2:**"
   ]
  },
  {
   "cell_type": "code",
   "execution_count": 4,
   "metadata": {
    "id": "zx2SCAtegScT"
   },
   "outputs": [],
   "source": [
    "def num_trainable_parameters(model):\n",
    "  return sum(p.numel() for p in model.parameters() if p.requires_grad)"
   ]
  },
  {
   "cell_type": "markdown",
   "metadata": {
    "id": "lL6H-MZwgScV"
   },
   "source": [
    "**i)** $ \\ $\n",
    "\n",
    "El número de parametros del modelo SI depende del dataset utilizado, dado a que el input del modelo es el tamaño del diccionario de frases y entre mayor cantidad de caracteres posea en total el dataset, entonces más parametros tendrá el modelo.\n",
    "\n",
    "$ \\\\ $\n",
    "\n",
    "Sin embargo, si dos datasets ocupan el mismo numero de frases (incluso sin ser iguales tales datasets) entonces tendrán el mismo número de parametros el modelo asociado. \n",
    "\n",
    "$ \\\\ $ \n",
    "\n",
    "Para ejemplificar esto, graficaremos el número de parametros del modelo en función del tamaño del diccionario de frases."
   ]
  },
  {
   "cell_type": "code",
   "execution_count": 5,
   "metadata": {
    "colab": {
     "base_uri": "https://localhost:8080/"
    },
    "id": "QXLYKTJtgScW",
    "outputId": "2b96a8c7-8c12-48ba-bfd7-ec6a702caa47"
   },
   "outputs": [
    {
     "name": "stdout",
     "output_type": "stream",
     "text": [
      "GPU is available\n"
     ]
    }
   ],
   "source": [
    "# torch.cuda.is_available() checks and returns a Boolean True if a GPU is available, else it'll return False\n",
    "is_cuda = torch.cuda.is_available()\n",
    "\n",
    "# If we have a GPU available, we'll set our device to GPU. We'll use this device variable later in our code.\n",
    "if is_cuda:\n",
    "    device = torch.device(\"cuda\")\n",
    "    print(\"GPU is available\")    \n",
    "else:\n",
    "    device = torch.device(\"cpu\")\n",
    "    print(\"GPU not available, CPU used\")"
   ]
  },
  {
   "cell_type": "code",
   "execution_count": 6,
   "metadata": {
    "id": "SACD7L3WgScW"
   },
   "outputs": [],
   "source": [
    "dim_input_max = 100\n",
    "\n",
    "dim_input = []\n",
    "num_par_60 = []\n",
    "\n",
    "for i in range(1, dim_input_max + 1):\n",
    "  \n",
    "  model = Model(input_size=80, output_size=2, hidden_dim=60, n_layers=1, device = device, dict_size = i)\n",
    "  num_parametros = num_trainable_parameters(model)\n",
    "\n",
    "  dim_input.append(i)\n",
    "  num_par_60.append(num_parametros)"
   ]
  },
  {
   "cell_type": "code",
   "execution_count": 7,
   "metadata": {
    "colab": {
     "base_uri": "https://localhost:8080/",
     "height": 431
    },
    "id": "MPWYebFWgScX",
    "outputId": "6346f23d-ea18-42e6-a532-85c68a1ebaff"
   },
   "outputs": [
    {
     "data": {
      "image/png": "[encoded data removed]",
      "text/plain": [
       "<Figure size 720x504 with 1 Axes>"
      ]
     },
     "metadata": {
      "needs_background": "light",
      "tags": []
     },
     "output_type": "display_data"
    }
   ],
   "source": [
    "plt.figure(figsize=(10,7))\n",
    "\n",
    "plt.plot(dim_input, num_par_60, color = \"red\")\n",
    "\n",
    "plt.legend(['Numero de parametros 60'], loc='upper left')\n",
    "\n",
    "plt.show()"
   ]
  },
  {
   "cell_type": "markdown",
   "metadata": {
    "id": "-g3AbIkxgScX"
   },
   "source": [
    "**ii)** $ \\ $\n",
    "\n",
    "El número de parametros del modelo se podría reducir cambiando la dimensionalidad de la capa oculta (en particular, disminuyendola). En el grafico anterior todos los modelos tenian dimensionalidad de la capa oculta igual a 60. Ahora cambiaremos este valor a 30 y mostraremos a través de un gráfico también que para los mismos tamaños de inputs de entrada, tendremos distintos numeros de parametros, en particular, los modelos con dimensionalidad igual a 30 del estado oculto tendran menor numero de parametros que los modelos con dimensionalidad del estado oculto igual a 60."
   ]
  },
  {
   "cell_type": "code",
   "execution_count": 8,
   "metadata": {
    "id": "bIKnqGH3gScX"
   },
   "outputs": [],
   "source": [
    "dim_input_max = 100\n",
    "\n",
    "dim_input = []\n",
    "num_par_30 = []\n",
    "\n",
    "for i in range(1, dim_input_max + 1):\n",
    "  \n",
    "  model = Model(input_size=80, output_size=2, hidden_dim=30, n_layers=1, device = device, dict_size = i)\n",
    "  num_parametros = num_trainable_parameters(model)\n",
    "\n",
    "  dim_input.append(i)\n",
    "  num_par_30.append(num_parametros)"
   ]
  },
  {
   "cell_type": "code",
   "execution_count": 9,
   "metadata": {
    "colab": {
     "base_uri": "https://localhost:8080/",
     "height": 428
    },
    "id": "kyRSGTjhgScX",
    "outputId": "c8bc4850-a754-4b89-c509-af6d9b05a9c9"
   },
   "outputs": [
    {
     "data": {
      "image/png": "[encoded data removed]",
      "text/plain": [
       "<Figure size 720x504 with 1 Axes>"
      ]
     },
     "metadata": {
      "needs_background": "light",
      "tags": []
     },
     "output_type": "display_data"
    }
   ],
   "source": [
    "plt.figure(figsize=(10,7))\n",
    "\n",
    "plt.plot(dim_input, num_par_60, color = \"red\")\n",
    "plt.plot(dim_input, num_par_30, color = \"blue\")\n",
    "\n",
    "plt.legend(['Numero de parametros 60', 'Numero de parametros 30'], loc='upper left')\n",
    "\n",
    "plt.show()"
   ]
  },
  {
   "cell_type": "markdown",
   "metadata": {
    "id": "pMxDTiOagScX"
   },
   "source": [
    "## **Actividad 3:**"
   ]
  },
  {
   "cell_type": "markdown",
   "metadata": {
    "id": "N55KsnShgScX"
   },
   "source": [
    "Ahora entrenaremos los modelos que nos piden por enunciado incluyendo una capa de embedding, rnn, otra capa lineal y finalmente una capa softmax."
   ]
  },
  {
   "cell_type": "markdown",
   "metadata": {
    "id": "1BDmNKXPgScY"
   },
   "source": [
    "Primero que todo abriremos el archivo con todos los mensajes de \"spam\" y \"no spam\". Luego de eso, limpiaremos cada uno de los mensajes sacando todos los signos y transformando los mensajes a miniscula."
   ]
  },
  {
   "cell_type": "code",
   "execution_count": 10,
   "metadata": {
    "id": "RX5qSKgtgScY"
   },
   "outputs": [],
   "source": [
    "with open('drive/MyDrive/DeepLearningUC/Tarea2/Actividad1/SMSSpamCollection') as file:\n",
    "  mensajes = file.readlines()"
   ]
  },
  {
   "cell_type": "code",
   "execution_count": 11,
   "metadata": {
    "id": "zxca-lJigScY"
   },
   "outputs": [],
   "source": [
    "def sacar_signos(frase):\n",
    "  nueva_frase = ''\n",
    "  for char in frase:\n",
    "    if char not in \"[.;:!\\'?,\\\"()\\[\\]<>&$#%=\\{\\}^-_/£\":\n",
    "      nueva_frase = nueva_frase + char\n",
    "  return nueva_frase.lower()"
   ]
  },
  {
   "cell_type": "markdown",
   "metadata": {
    "id": "UN8v_F5ngScY"
   },
   "source": [
    "Ahora crearemos la lista que agrupa los mensajes de \"spam\" y \"no spam\"."
   ]
  },
  {
   "cell_type": "code",
   "execution_count": 12,
   "metadata": {
    "id": "75jnXwhPgScY"
   },
   "outputs": [],
   "source": [
    "# Creacion de los mensajes spam y no spam\n",
    "\n",
    "spam = []\n",
    "no_spam = []"
   ]
  },
  {
   "cell_type": "code",
   "execution_count": 13,
   "metadata": {
    "id": "FIrujzmAgScY"
   },
   "outputs": [],
   "source": [
    "for i in range(len(mensajes)):\n",
    "  x = mensajes[i]\n",
    "  #Primero sacamos el '\\n'\n",
    "  x = x.strip()\n",
    "  #Dividimos la info para que nos separe el label del mensaje y el mensaje\n",
    "  label, msg = x.split('\\t')\n",
    "  msg_limpio = sacar_signos(msg)\n",
    "  if label == 'ham':\n",
    "    no_spam.append(msg_limpio)\n",
    "  else:\n",
    "    spam.append(msg_limpio)"
   ]
  },
  {
   "cell_type": "code",
   "execution_count": 14,
   "metadata": {
    "id": "GHr4RLumgScY"
   },
   "outputs": [],
   "source": [
    "texto_global = []\n",
    "\n",
    "for i in spam:\n",
    "  texto_global.append(i.split(' '))\n",
    "for j in no_spam:\n",
    "  texto_global.append(j.split(' '))"
   ]
  },
  {
   "cell_type": "code",
   "execution_count": 15,
   "metadata": {
    "id": "W9KvBAFRBZNl"
   },
   "outputs": [],
   "source": [
    "maxlen = len(max(texto_global, key=len))"
   ]
  },
  {
   "cell_type": "markdown",
   "metadata": {
    "id": "BFIZkNrIgScZ"
   },
   "source": [
    "Realizamos el padding que tiene exactamente el mismo efecto que Padsequence."
   ]
  },
  {
   "cell_type": "code",
   "execution_count": 16,
   "metadata": {
    "id": "ZSyuL9FkgScZ"
   },
   "outputs": [],
   "source": [
    "maxlen = len(max(texto_global, key=len))\n",
    "\n",
    "# Padding\n",
    "\n",
    "for i in range(len(texto_global)):\n",
    "  while len(texto_global[i])<maxlen:\n",
    "      texto_global[i].append('')"
   ]
  },
  {
   "cell_type": "markdown",
   "metadata": {
    "id": "OBDue4x_gScZ"
   },
   "source": [
    "Volvemos a crear las listas \"spam\" y \"no spam\"."
   ]
  },
  {
   "cell_type": "code",
   "execution_count": 17,
   "metadata": {
    "id": "4ut_iADQgScZ"
   },
   "outputs": [],
   "source": [
    "spam = texto_global[0: 747]\n",
    "no_spam = texto_global[747: 5574]"
   ]
  },
  {
   "cell_type": "markdown",
   "metadata": {
    "id": "_rXMqw2YgScZ"
   },
   "source": [
    "Ahora hacemos la división de la data en donde el $ 70 \\% $ corresponde al \"train set\", el $ 20 \\% $ corresponde al \"val set\" y el $10 \\% $ al \"test set\".  "
   ]
  },
  {
   "cell_type": "code",
   "execution_count": 18,
   "metadata": {
    "id": "pW_Jj6H_gScZ"
   },
   "outputs": [],
   "source": [
    "spam_train = spam[0: 523]\n",
    "spam_val = spam[523: 672]\n",
    "spam_test = spam[672: 748]"
   ]
  },
  {
   "cell_type": "code",
   "execution_count": 19,
   "metadata": {
    "id": "vBtMxugrgScZ"
   },
   "outputs": [],
   "source": [
    "no_spam_train = no_spam[0: 3378]\n",
    "no_spam_val = no_spam[3378: 4344]\n",
    "no_spam_test = no_spam[4344: 4827]"
   ]
  },
  {
   "cell_type": "code",
   "execution_count": 20,
   "metadata": {
    "id": "u7cIaZwFgSca"
   },
   "outputs": [],
   "source": [
    "texto_train = []\n",
    "label_train = []\n",
    "\n",
    "for i in spam_train:\n",
    "  texto_train.append(i)\n",
    "  label_train.append(1)\n",
    "for j in no_spam_train:\n",
    "  texto_train.append(j)\n",
    "  label_train.append(0)"
   ]
  },
  {
   "cell_type": "code",
   "execution_count": 21,
   "metadata": {
    "id": "nPtADAusgSca"
   },
   "outputs": [],
   "source": [
    "texto_val = []\n",
    "label_val = []\n",
    "\n",
    "for i in spam_val:\n",
    "  texto_val.append(i)\n",
    "  label_val.append(1)\n",
    "for j in no_spam_val:\n",
    "  texto_val.append(j)\n",
    "  label_val.append(0)"
   ]
  },
  {
   "cell_type": "code",
   "execution_count": 22,
   "metadata": {
    "id": "TDqRt_3WgSca"
   },
   "outputs": [],
   "source": [
    "texto_test = []\n",
    "label_test = []\n",
    "\n",
    "for i in spam_test:\n",
    "  texto_test.append(i)\n",
    "  label_test.append(1)\n",
    "for j in no_spam_test:\n",
    "  texto_test.append(j)\n",
    "  label_test.append(0)"
   ]
  },
  {
   "cell_type": "markdown",
   "metadata": {
    "id": "aJfjKgT7gSca"
   },
   "source": [
    "Ahora comenzamos a hacer el embedding de los textos."
   ]
  },
  {
   "cell_type": "code",
   "execution_count": 23,
   "metadata": {
    "id": "KjRHRVmSDCU6"
   },
   "outputs": [],
   "source": [
    "phrase = []\n",
    "\n",
    "for i in texto_global:\n",
    "  for j in i:\n",
    "    phrase.append(j)\n",
    "\n",
    "phrase = set(phrase)\n",
    "\n",
    "int2phrase = dict(enumerate(phrase))\n",
    "\n",
    "phrase2int = {ph: ind for ind, ph in int2phrase.items()}"
   ]
  },
  {
   "cell_type": "code",
   "execution_count": 24,
   "metadata": {
    "id": "gbrpJZAZgSca"
   },
   "outputs": [],
   "source": [
    "input_seq_train = texto_train\n",
    "input_seq_val = texto_val\n",
    "input_seq_test = texto_test"
   ]
  },
  {
   "cell_type": "code",
   "execution_count": 25,
   "metadata": {
    "id": "ilElQ7KpgSca"
   },
   "outputs": [],
   "source": [
    "for i in range(len(input_seq_train)):\n",
    "  input_seq_train[i] = [phrase2int[phrase] for phrase in input_seq_train[i]]"
   ]
  },
  {
   "cell_type": "code",
   "execution_count": 26,
   "metadata": {
    "id": "MWhh1_fZE_7c"
   },
   "outputs": [],
   "source": [
    "for i in range(len(input_seq_val)):\n",
    "  input_seq_val[i] = [phrase2int[phrase] for phrase in input_seq_val[i]]"
   ]
  },
  {
   "cell_type": "code",
   "execution_count": 27,
   "metadata": {
    "id": "3n7cnZoaE_-B"
   },
   "outputs": [],
   "source": [
    "for i in range(len(input_seq_test)):\n",
    "  input_seq_test[i] = [phrase2int[phrase] for phrase in input_seq_test[i]]"
   ]
  },
  {
   "cell_type": "code",
   "execution_count": 28,
   "metadata": {
    "id": "yGf0_o8igScb"
   },
   "outputs": [],
   "source": [
    "dict_size = len(phrase2int)\n",
    "\n",
    "def one_hot_encode(sequence, dict_size):\n",
    "  batch_size = len(sequence)\n",
    "  seq_len = len(sequence[0])\n",
    "  # Creating a multi-dimensional array of zeros with the desired output shape\n",
    "  features = np.zeros((batch_size, seq_len, 1), dtype=np.int64)\n",
    "  # Replacing the 0 at the relevant character index with a 1 to represent that character\n",
    "  for i in range(batch_size):\n",
    "    for u in range(seq_len):\n",
    "      features[i, u] = sequence[i][u]\n",
    "  return features"
   ]
  },
  {
   "cell_type": "code",
   "execution_count": 29,
   "metadata": {
    "id": "5Mcof3vlgScb"
   },
   "outputs": [],
   "source": [
    "input_seq_train = one_hot_encode(input_seq_train, dict_size)\n",
    "input_seq_train = torch.from_numpy(input_seq_train)\n",
    "\n",
    "input_seq_val = one_hot_encode(input_seq_val, dict_size)\n",
    "input_seq_val = torch.from_numpy(input_seq_val)\n",
    "\n",
    "input_seq_test = one_hot_encode(input_seq_test, dict_size)\n",
    "input_seq_test = torch.from_numpy(input_seq_test)"
   ]
  },
  {
   "cell_type": "code",
   "execution_count": 30,
   "metadata": {
    "id": "qmzMKInCgScb"
   },
   "outputs": [],
   "source": [
    "def one_hot_target(label, seq_len):\n",
    "  batch_size = len(label)\n",
    "  features = np.zeros((batch_size, seq_len), dtype=np.float32)\n",
    "  for i in range(batch_size):\n",
    "    for u in range(seq_len):\n",
    "      features[i, u] = label[i]\n",
    "  return features"
   ]
  },
  {
   "cell_type": "code",
   "execution_count": 31,
   "metadata": {
    "id": "i4XoIk02gScb"
   },
   "outputs": [],
   "source": [
    "target_seq_train = one_hot_target(label_train, len(input_seq_train[0]))\n",
    "target_seq_train = torch.Tensor(target_seq_train)\n",
    "\n",
    "target_seq_val = one_hot_target(label_val, len(input_seq_val[0]))\n",
    "target_seq_val = torch.Tensor(target_seq_val)\n",
    "\n",
    "target_seq_test = one_hot_target(label_test, len(input_seq_test[0]))\n",
    "target_seq_test = torch.Tensor(target_seq_test)"
   ]
  },
  {
   "cell_type": "code",
   "execution_count": 32,
   "metadata": {
    "id": "cOSitdHCVxcg"
   },
   "outputs": [],
   "source": [
    "def calcular_prediccion(elemento):\n",
    "  pred = []\n",
    "  if float(elemento[170][0]) >= float(elemento[170][1]):\n",
    "      return 0\n",
    "  else:\n",
    "      return 1"
   ]
  },
  {
   "cell_type": "code",
   "execution_count": 33,
   "metadata": {
    "id": "XX4RqKylVxfZ"
   },
   "outputs": [],
   "source": [
    "def calcular_predicciones(output):\n",
    "\n",
    "  nro_elementos = int(len(output)/171)\n",
    "\n",
    "  pred_total = []\n",
    "\n",
    "  for i in range(nro_elementos):\n",
    "\n",
    "    elemento = output[i*171:(i+1)*171]\n",
    "    prediccion = calcular_prediccion(elemento)\n",
    "    pred_total.append(prediccion)\n",
    "  \n",
    "  return pred_total"
   ]
  },
  {
   "cell_type": "code",
   "execution_count": 34,
   "metadata": {
    "id": "KSa3T5YzVxiR"
   },
   "outputs": [],
   "source": [
    "def calcular_precicision(prediccion, label):\n",
    "  contador = 0\n",
    "  total = 0\n",
    "\n",
    "  for i in range(len(prediccion)):\n",
    "    if int(prediccion[i]) == int(label[i]):\n",
    "      contador = contador + 1\n",
    "\n",
    "    total = total + 1\n",
    "  \n",
    "  return contador/total"
   ]
  },
  {
   "cell_type": "code",
   "execution_count": 35,
   "metadata": {
    "colab": {
     "base_uri": "https://localhost:8080/"
    },
    "id": "xQTsdeR_gScc",
    "outputId": "c650df04-30b7-41c1-9590-c485d1e507a9"
   },
   "outputs": [
    {
     "name": "stdout",
     "output_type": "stream",
     "text": [
      "GPU is available\n"
     ]
    }
   ],
   "source": [
    "# torch.cuda.is_available() checks and returns a Boolean True if a GPU is available, else it'll return False\n",
    "is_cuda = torch.cuda.is_available()\n",
    "\n",
    "# If we have a GPU available, we'll set our device to GPU. We'll use this device variable later in our code.\n",
    "if is_cuda:\n",
    "    device = torch.device(\"cuda\")\n",
    "    print(\"GPU is available\")    \n",
    "else:\n",
    "    device = torch.device(\"cpu\")\n",
    "    print(\"GPU not available, CPU used\")"
   ]
  },
  {
   "cell_type": "code",
   "execution_count": 40,
   "metadata": {
    "id": "Anry5EQEgScc"
   },
   "outputs": [],
   "source": [
    "input_seq_train = input_seq_train.to(device)\n",
    "target_seq_train = target_seq_train.to(device)\n",
    "\n",
    "input_seq_val = input_seq_val.to(device)\n",
    "target_seq_val = target_seq_val.to(device)\n",
    "\n",
    "input_seq_test = input_seq_test.to(device)\n",
    "target_seq_test = target_seq_test.to(device)"
   ]
  },
  {
   "cell_type": "code",
   "execution_count": 37,
   "metadata": {
    "id": "pUPlmAj3gScc"
   },
   "outputs": [],
   "source": [
    "model = Model(input_size=80, output_size=2, hidden_dim=10, n_layers=1, device = device, dict_size = dict_size)\n",
    "model = model.to(device)"
   ]
  },
  {
   "cell_type": "code",
   "execution_count": 38,
   "metadata": {
    "id": "kCB8kjv4gScc"
   },
   "outputs": [],
   "source": [
    "n_epochs = 100\n",
    "lr=0.01*3\n",
    "\n",
    "# Define Loss, Optimizer\n",
    "criterion = nn.CrossEntropyLoss()\n",
    "optimizer = torch.optim.Adam(model.parameters(), lr=lr)\n",
    "target_seq_train = target_seq_train.to(device)"
   ]
  },
  {
   "cell_type": "code",
   "execution_count": 39,
   "metadata": {
    "colab": {
     "base_uri": "https://localhost:8080/"
    },
    "id": "kPapCPT-gScc",
    "outputId": "19857010-f682-4cb4-dec0-49e61ef9835a"
   },
   "outputs": [
    {
     "name": "stdout",
     "output_type": "stream",
     "text": [
      "Epoch: 1/100............. Loss Train Epoch: 0.5372............. Time Epoch: 0.25658607482910156\n",
      "Epoch: 2/100............. Loss Train Epoch: 0.4769............. Time Epoch: 0.26901769638061523\n",
      "Epoch: 3/100............. Loss Train Epoch: 0.4661............. Time Epoch: 0.25806570053100586\n",
      "Epoch: 4/100............. Loss Train Epoch: 0.4590............. Time Epoch: 0.2696499824523926\n",
      "Epoch: 5/100............. Loss Train Epoch: 0.4534............. Time Epoch: 0.25902485847473145\n",
      "Epoch: 6/100............. Loss Train Epoch: 0.4490............. Time Epoch: 0.26105499267578125\n",
      "Epoch: 7/100............. Loss Train Epoch: 0.4458............. Time Epoch: 0.25794363021850586\n",
      "Epoch: 8/100............. Loss Train Epoch: 0.4435............. Time Epoch: 0.2571291923522949\n",
      "Epoch: 9/100............. Loss Train Epoch: 0.4417............. Time Epoch: 0.26705026626586914\n",
      "Epoch: 10/100............. Loss Train Epoch: 0.4404............. Time Epoch: 0.2562685012817383\n",
      "Epoch: 11/100............. Loss Train Epoch: 0.4393............. Time Epoch: 0.2635233402252197\n",
      "Epoch: 12/100............. Loss Train Epoch: 0.4384............. Time Epoch: 0.2589085102081299\n",
      "Epoch: 13/100............. Loss Train Epoch: 0.4377............. Time Epoch: 0.2639949321746826\n",
      "Epoch: 14/100............. Loss Train Epoch: 0.4370............. Time Epoch: 0.2649357318878174\n",
      "Epoch: 15/100............. Loss Train Epoch: 0.4365............. Time Epoch: 0.2567129135131836\n",
      "Epoch: 16/100............. Loss Train Epoch: 0.4358............. Time Epoch: 0.26590466499328613\n",
      "Epoch: 17/100............. Loss Train Epoch: 0.4354............. Time Epoch: 0.2617647647857666\n",
      "Epoch: 18/100............. Loss Train Epoch: 0.4351............. Time Epoch: 0.2625558376312256\n",
      "Epoch: 19/100............. Loss Train Epoch: 0.4347............. Time Epoch: 0.2598254680633545\n",
      "Epoch: 20/100............. Loss Train Epoch: 0.4345............. Time Epoch: 0.26229071617126465\n",
      "Epoch: 21/100............. Loss Train Epoch: 0.4342............. Time Epoch: 0.2566847801208496\n",
      "Epoch: 22/100............. Loss Train Epoch: 0.4340............. Time Epoch: 0.2608616352081299\n",
      "Epoch: 23/100............. Loss Train Epoch: 0.4335............. Time Epoch: 0.27191853523254395\n",
      "Epoch: 24/100............. Loss Train Epoch: 0.4333............. Time Epoch: 0.2563786506652832\n",
      "Epoch: 25/100............. Loss Train Epoch: 0.4331............. Time Epoch: 0.2600405216217041\n",
      "Epoch: 26/100............. Loss Train Epoch: 0.4329............. Time Epoch: 0.2576618194580078\n",
      "Epoch: 27/100............. Loss Train Epoch: 0.4327............. Time Epoch: 0.26428961753845215\n",
      "Epoch: 28/100............. Loss Train Epoch: 0.4325............. Time Epoch: 0.2630486488342285\n",
      "Epoch: 29/100............. Loss Train Epoch: 0.4323............. Time Epoch: 0.25963854789733887\n",
      "Epoch: 30/100............. Loss Train Epoch: 0.4322............. Time Epoch: 0.2560153007507324\n",
      "Epoch: 31/100............. Loss Train Epoch: 0.4320............. Time Epoch: 0.26327013969421387\n",
      "Epoch: 32/100............. Loss Train Epoch: 0.4319............. Time Epoch: 0.2612624168395996\n",
      "Epoch: 33/100............. Loss Train Epoch: 0.4318............. Time Epoch: 0.2556273937225342\n",
      "Epoch: 34/100............. Loss Train Epoch: 0.4316............. Time Epoch: 0.26461195945739746\n",
      "Epoch: 35/100............. Loss Train Epoch: 0.4315............. Time Epoch: 0.2612297534942627\n",
      "Epoch: 36/100............. Loss Train Epoch: 0.4314............. Time Epoch: 0.2640812397003174\n",
      "Epoch: 37/100............. Loss Train Epoch: 0.4312............. Time Epoch: 0.2582848072052002\n",
      "Epoch: 38/100............. Loss Train Epoch: 0.4311............. Time Epoch: 0.26030540466308594\n",
      "Epoch: 39/100............. Loss Train Epoch: 0.4311............. Time Epoch: 0.25743675231933594\n",
      "Epoch: 40/100............. Loss Train Epoch: 0.4311............. Time Epoch: 0.26384997367858887\n",
      "Epoch: 41/100............. Loss Train Epoch: 0.4310............. Time Epoch: 0.2626924514770508\n",
      "Epoch: 42/100............. Loss Train Epoch: 0.4309............. Time Epoch: 0.2572746276855469\n",
      "Epoch: 43/100............. Loss Train Epoch: 0.4309............. Time Epoch: 0.26044487953186035\n",
      "Epoch: 44/100............. Loss Train Epoch: 0.4308............. Time Epoch: 0.25894665718078613\n",
      "Epoch: 45/100............. Loss Train Epoch: 0.4307............. Time Epoch: 0.2593355178833008\n",
      "Epoch: 46/100............. Loss Train Epoch: 0.4307............. Time Epoch: 0.26438307762145996\n",
      "Epoch: 47/100............. Loss Train Epoch: 0.4306............. Time Epoch: 0.25657105445861816\n",
      "Epoch: 48/100............. Loss Train Epoch: 0.4306............. Time Epoch: 0.25697970390319824\n",
      "Epoch: 49/100............. Loss Train Epoch: 0.4305............. Time Epoch: 0.25713133811950684\n",
      "Epoch: 50/100............. Loss Train Epoch: 0.4305............. Time Epoch: 0.2582519054412842\n",
      "Epoch: 51/100............. Loss Train Epoch: 0.4305............. Time Epoch: 0.26074719429016113\n",
      "Epoch: 52/100............. Loss Train Epoch: 0.4304............. Time Epoch: 0.25759410858154297\n",
      "Epoch: 53/100............. Loss Train Epoch: 0.4304............. Time Epoch: 0.25951671600341797\n",
      "Epoch: 54/100............. Loss Train Epoch: 0.4304............. Time Epoch: 0.2694051265716553\n",
      "Epoch: 55/100............. Loss Train Epoch: 0.4303............. Time Epoch: 0.2667694091796875\n",
      "Epoch: 56/100............. Loss Train Epoch: 0.4303............. Time Epoch: 0.2601170539855957\n",
      "Epoch: 57/100............. Loss Train Epoch: 0.4303............. Time Epoch: 0.2641420364379883\n",
      "Epoch: 58/100............. Loss Train Epoch: 0.4303............. Time Epoch: 0.2611856460571289\n",
      "Epoch: 59/100............. Loss Train Epoch: 0.4302............. Time Epoch: 0.262967586517334\n",
      "Epoch: 60/100............. Loss Train Epoch: 0.4302............. Time Epoch: 0.2580990791320801\n",
      "Epoch: 61/100............. Loss Train Epoch: 0.4301............. Time Epoch: 0.2596416473388672\n",
      "Epoch: 62/100............. Loss Train Epoch: 0.4301............. Time Epoch: 0.25872087478637695\n",
      "Epoch: 63/100............. Loss Train Epoch: 0.4301............. Time Epoch: 0.2698214054107666\n",
      "Epoch: 64/100............. Loss Train Epoch: 0.4299............. Time Epoch: 0.2653238773345947\n",
      "Epoch: 65/100............. Loss Train Epoch: 0.4297............. Time Epoch: 0.2570827007293701\n",
      "Epoch: 66/100............. Loss Train Epoch: 0.4297............. Time Epoch: 0.25606560707092285\n",
      "Epoch: 67/100............. Loss Train Epoch: 0.4297............. Time Epoch: 0.25737667083740234\n",
      "Epoch: 68/100............. Loss Train Epoch: 0.4296............. Time Epoch: 0.26116085052490234\n",
      "Epoch: 69/100............. Loss Train Epoch: 0.4296............. Time Epoch: 0.2575113773345947\n",
      "Epoch: 70/100............. Loss Train Epoch: 0.4296............. Time Epoch: 0.2589879035949707\n",
      "Epoch: 71/100............. Loss Train Epoch: 0.4296............. Time Epoch: 0.2614617347717285\n",
      "Epoch: 72/100............. Loss Train Epoch: 0.4296............. Time Epoch: 0.2617378234863281\n",
      "Epoch: 73/100............. Loss Train Epoch: 0.4295............. Time Epoch: 0.2588791847229004\n",
      "Epoch: 74/100............. Loss Train Epoch: 0.4295............. Time Epoch: 0.26659131050109863\n",
      "Epoch: 75/100............. Loss Train Epoch: 0.4295............. Time Epoch: 0.25452113151550293\n",
      "Epoch: 76/100............. Loss Train Epoch: 0.4295............. Time Epoch: 0.2588965892791748\n",
      "Epoch: 77/100............. Loss Train Epoch: 0.4295............. Time Epoch: 0.25731778144836426\n",
      "Epoch: 78/100............. Loss Train Epoch: 0.4294............. Time Epoch: 0.26619744300842285\n",
      "Epoch: 79/100............. Loss Train Epoch: 0.4293............. Time Epoch: 0.2587583065032959\n",
      "Epoch: 80/100............. Loss Train Epoch: 0.4289............. Time Epoch: 0.2577176094055176\n",
      "Epoch: 81/100............. Loss Train Epoch: 0.3693............. Time Epoch: 0.2583792209625244\n",
      "Epoch: 82/100............. Loss Train Epoch: 0.3805............. Time Epoch: 0.26158833503723145\n",
      "Epoch: 83/100............. Loss Train Epoch: 0.3541............. Time Epoch: 0.2561204433441162\n",
      "Epoch: 84/100............. Loss Train Epoch: 0.3422............. Time Epoch: 0.2609059810638428\n",
      "Epoch: 85/100............. Loss Train Epoch: 0.3320............. Time Epoch: 0.2573120594024658\n",
      "Epoch: 86/100............. Loss Train Epoch: 0.3252............. Time Epoch: 0.26189565658569336\n",
      "Epoch: 87/100............. Loss Train Epoch: 0.3212............. Time Epoch: 0.2606832981109619\n",
      "Epoch: 88/100............. Loss Train Epoch: 0.3190............. Time Epoch: 0.26038527488708496\n",
      "Epoch: 89/100............. Loss Train Epoch: 0.3179............. Time Epoch: 0.2566688060760498\n",
      "Epoch: 90/100............. Loss Train Epoch: 0.3170............. Time Epoch: 0.25601625442504883\n",
      "Epoch: 91/100............. Loss Train Epoch: 0.3168............. Time Epoch: 0.25720906257629395\n",
      "Epoch: 92/100............. Loss Train Epoch: 0.3166............. Time Epoch: 0.26285266876220703\n",
      "Epoch: 93/100............. Loss Train Epoch: 0.3165............. Time Epoch: 0.25674939155578613\n",
      "Epoch: 94/100............. Loss Train Epoch: 0.3169............. Time Epoch: 0.25885987281799316\n",
      "Epoch: 95/100............. Loss Train Epoch: 0.3169............. Time Epoch: 0.25634050369262695\n",
      "Epoch: 96/100............. Loss Train Epoch: 0.3164............. Time Epoch: 0.2582669258117676\n",
      "Epoch: 97/100............. Loss Train Epoch: 0.3167............. Time Epoch: 0.2610151767730713\n",
      "Epoch: 98/100............. Loss Train Epoch: 0.3169............. Time Epoch: 0.2578907012939453\n",
      "Epoch: 99/100............. Loss Train Epoch: 0.3171............. Time Epoch: 0.25914883613586426\n",
      "Epoch: 100/100............. Loss Train Epoch: 0.3173............. Time Epoch: 0.2585716247558594\n"
     ]
    }
   ],
   "source": [
    "# Entrenamiento\n",
    "\n",
    "epocas_totales_rnn = []\n",
    "loss_train_totales_rnn = []\n",
    "loss_val_totales_rnn = []\n",
    "prec_train_totales_rnn = []\n",
    "prec_val_totales_rnn = []\n",
    "\n",
    "for epoch in range(1, n_epochs + 1):\n",
    "\n",
    "  start = time.time()\n",
    "\n",
    "  model.train()\n",
    "\n",
    "  optimizer.zero_grad() # Clears existing gradients from previous epoch\n",
    "\n",
    "  output_train, _ = model(input_seq_train)\n",
    "  loss_train = criterion(output_train, target_seq_train.view(-1).long())\n",
    "  loss_train.backward() # Does backpropagation and calculates gradients\n",
    "  optimizer.step() # Updates the weights accordingly\n",
    "\n",
    "  model.eval()\n",
    "  output_val, _ = model(input_seq_val)\n",
    "\n",
    "  pred_train = calcular_predicciones(output_train)\n",
    "  pred_val = calcular_predicciones(output_val)\n",
    "\n",
    "  prec_train = calcular_precicision(pred_train, label_train)\n",
    "  prec_val = calcular_precicision(pred_val, label_val)\n",
    "\n",
    "  loss_val = criterion(output_val, target_seq_val.view(-1).long())\n",
    "\n",
    "  epocas_totales_rnn.append(epoch)\n",
    "  loss_train_totales_rnn.append(loss_train)\n",
    "  loss_val_totales_rnn.append(loss_val)\n",
    "  prec_train_totales_rnn.append(prec_train)\n",
    "  prec_val_totales_rnn.append(prec_val)\n",
    "\n",
    "  end = time.time()\n",
    "\n",
    "  print('Epoch: {}/{}.............'.format(epoch, n_epochs), end=' ')\n",
    "  print(\"Loss Train Epoch: {:.4f}.............\".format(loss_train.item()), end =' ')\n",
    "  print(\"Time Epoch: {}\".format(end-start))"
   ]
  },
  {
   "cell_type": "markdown",
   "metadata": {
    "id": "1QDPusulhaSA"
   },
   "source": [
    "**Evolución de la funcion de perdida**\n"
   ]
  },
  {
   "cell_type": "code",
   "execution_count": 40,
   "metadata": {
    "colab": {
     "base_uri": "https://localhost:8080/",
     "height": 428
    },
    "id": "iw92h5uzhaSG",
    "outputId": "bc01bf8d-beba-4716-d2c3-8cddfa0812c1"
   },
   "outputs": [
    {
     "data": {
      "image/png": "[encoded data removed]",
      "text/plain": [
       "<Figure size 720x504 with 1 Axes>"
      ]
     },
     "metadata": {
      "needs_background": "light",
      "tags": []
     },
     "output_type": "display_data"
    }
   ],
   "source": [
    "plt.figure(figsize=(10,7))\n",
    "\n",
    "plt.plot(epocas_totales_rnn, loss_train_totales_rnn, color = \"red\")\n",
    "plt.plot(epocas_totales_rnn, loss_val_totales_rnn, color = \"blue\")\n",
    "\n",
    "plt.legend(['Perdida de Entrenamiento', 'Perdida de Validacion'], loc='upper left')\n",
    "\n",
    "plt.show()"
   ]
  },
  {
   "cell_type": "markdown",
   "metadata": {
    "id": "vtHFL9F-haSH"
   },
   "source": [
    "$ \\underline{Comentario:} $ Notemos que la función de perdida en el set de entrenamiento se demora 80 epocas en convergen al igual que en el set de validación. Por otro lado, notemos que la perdida en el set de validación se va comportando igual que en el set de entrenamiento, lo que nos dice que **no hay overfitting**. Además de lo ya mencionado, la función de perdida en el entrenamiento converge a un valor pequeño lo cual es muy bueno."
   ]
  },
  {
   "cell_type": "markdown",
   "metadata": {
    "id": "pneiQimThaSI"
   },
   "source": [
    "**Evolución de la precision**"
   ]
  },
  {
   "cell_type": "code",
   "execution_count": 41,
   "metadata": {
    "colab": {
     "base_uri": "https://localhost:8080/",
     "height": 428
    },
    "id": "-kWSbPiVhaSI",
    "outputId": "21b73035-0b01-42ab-d914-2f642444314d"
   },
   "outputs": [
    {
     "data": {
      "image/png": "[encoded data removed]",
      "text/plain": [
       "<Figure size 720x504 with 1 Axes>"
      ]
     },
     "metadata": {
      "needs_background": "light",
      "tags": []
     },
     "output_type": "display_data"
    }
   ],
   "source": [
    "plt.figure(figsize=(10,7))\n",
    "\n",
    "plt.plot(np.array(epocas_totales_rnn), np.array(prec_train_totales_rnn)*100, color = \"red\")\n",
    "plt.plot(np.array(epocas_totales_rnn), np.array(prec_val_totales_rnn)*100, color = \"blue\")\n",
    "\n",
    "plt.legend(['Precision de Entrenamiento', 'Precision de Validacion'], loc='upper left')\n",
    "\n",
    "plt.show()"
   ]
  },
  {
   "cell_type": "markdown",
   "metadata": {
    "id": "f1UWFwy-haSI"
   },
   "source": [
    "$ \\underline{Comentario:} $ Notemos que la precisión en el set de entrenamiento converge en la epoca 80 aprox. Por otro lado, notemos que la precisión en el set de validación también crece en la epoca 80 también a un muy buen valor, lo que nuevamente nos dice que **no hay overfitting**. "
   ]
  },
  {
   "cell_type": "markdown",
   "metadata": {
    "id": "oFm5cZW2haSI"
   },
   "source": [
    "Ahora para el modelo ya entrenado, reportaremos la precisión en los sets de:\n",
    "\n",
    "a. Entrenamiento. $ \\\\ $\n",
    "\n",
    "b. Validación. $ \\\\ $\n",
    "\n",
    "b. Test. $ \\\\ $"
   ]
  },
  {
   "cell_type": "markdown",
   "metadata": {
    "id": "8s9IBsE8haSI"
   },
   "source": [
    "**Desempeño en el train set**"
   ]
  },
  {
   "cell_type": "code",
   "execution_count": 42,
   "metadata": {
    "colab": {
     "base_uri": "https://localhost:8080/"
    },
    "id": "yGG0dJXuhaSJ",
    "outputId": "d29557a0-91a4-4a36-98ea-5ec1f1229fdc"
   },
   "outputs": [
    {
     "name": "stdout",
     "output_type": "stream",
     "text": [
      "Precisión en el train set:  99.77\n"
     ]
    }
   ],
   "source": [
    "model.eval()\n",
    "output_train, _ = model(input_seq_train)\n",
    "\n",
    "pred_train = calcular_predicciones(output_train)\n",
    "prec_train = calcular_precicision(pred_train, label_train)\n",
    "print(\"Precisión en el train set: \", round(prec_train*100, 2))"
   ]
  },
  {
   "cell_type": "markdown",
   "metadata": {
    "id": "SbsM3nLthaSJ"
   },
   "source": [
    "$ \\underline{Comentario:} $ La precisión en el **train set** es de $99,77 \\% $."
   ]
  },
  {
   "cell_type": "markdown",
   "metadata": {
    "id": "FcgdokqthaSJ"
   },
   "source": [
    "**Desempeño en el val set**"
   ]
  },
  {
   "cell_type": "code",
   "execution_count": 43,
   "metadata": {
    "colab": {
     "base_uri": "https://localhost:8080/"
    },
    "id": "fWq_xjsNhaSJ",
    "outputId": "1dcb1319-fc35-461a-d3c4-9d16ae23a84f"
   },
   "outputs": [
    {
     "name": "stdout",
     "output_type": "stream",
     "text": [
      "Precisión en el val set:  93.45\n"
     ]
    }
   ],
   "source": [
    "model.eval()\n",
    "output_val, _ = model(input_seq_val)\n",
    "\n",
    "pred_val = calcular_predicciones(output_val)\n",
    "prec_val = calcular_precicision(pred_val, label_val)\n",
    "print(\"Precisión en el val set: \", round(prec_val*100, 2))"
   ]
  },
  {
   "cell_type": "markdown",
   "metadata": {
    "id": "1Ma5J8HLhaSK"
   },
   "source": [
    "$ \\underline{Comentario:} $ La precisión en el **val set** es de $93,45 \\% $."
   ]
  },
  {
   "cell_type": "markdown",
   "metadata": {
    "id": "nmUlSpLphaSK"
   },
   "source": [
    "**Desempeño en el test set**"
   ]
  },
  {
   "cell_type": "code",
   "execution_count": 44,
   "metadata": {
    "colab": {
     "base_uri": "https://localhost:8080/"
    },
    "id": "ZUe20la6haSK",
    "outputId": "70fb10c0-f607-4abd-b0cc-3f2c00dd2de2"
   },
   "outputs": [
    {
     "name": "stdout",
     "output_type": "stream",
     "text": [
      "Precisión en el test set:  96.42\n"
     ]
    }
   ],
   "source": [
    "model.eval()\n",
    "output_test, _ = model(input_seq_test)\n",
    "\n",
    "pred_test = calcular_predicciones(output_test)\n",
    "prec_test = calcular_precicision(pred_test, label_test)\n",
    "print(\"Precisión en el test set: \", round(prec_test*100, 2))"
   ]
  },
  {
   "cell_type": "markdown",
   "metadata": {
    "id": "iuU3YERZhaSK"
   },
   "source": [
    "$ \\underline{Comentario:} $ La precisión en el **test set** es de $96,42 \\% $."
   ]
  },
  {
   "cell_type": "markdown",
   "metadata": {
    "id": "tZtSl8odhaSK"
   },
   "source": [
    "$ \\underline{Comentario \\ general:} $ \n",
    "\n",
    "Notemos que la precisión tanto en el train, val y test set son similares, por ende, esto nos habla de que **no hay overfitting** y además de eso llegamos a un muy buen valor de clasificación."
   ]
  },
  {
   "cell_type": "markdown",
   "metadata": {
    "id": "G3XV8r41ZQB6"
   },
   "source": [
    "## **Actividad 4:**"
   ]
  },
  {
   "cell_type": "markdown",
   "metadata": {
    "id": "hlPAimc2ZbFB"
   },
   "source": [
    "Ahora entrenaremos el modelo de LSTM que nos piden por enunciado incluyendo otra capa lineal y finalmente una capa softmax."
   ]
  },
  {
   "cell_type": "code",
   "execution_count": 35,
   "metadata": {
    "id": "rcUp8mb2YC1B"
   },
   "outputs": [],
   "source": [
    "class LSTM_model(nn.Module):\n",
    "    def __init__(self, input_size, output_size, hidden_dim, n_layers, device):\n",
    "        super(LSTM_model, self).__init__()\n",
    "\n",
    "        # Defining some parameters\n",
    "        self.hidden_dim = hidden_dim\n",
    "        self.n_layers = n_layers\n",
    "\n",
    "        #Defining the layers\n",
    "        # RNN Layer\n",
    "\n",
    "        self.embedding = nn.Embedding(dict_size, input_size)\n",
    "\n",
    "        self.lstm = nn.LSTM(input_size, hidden_dim, n_layers, batch_first=True)\n",
    "\n",
    "        # Fully connected layer\n",
    "        self.fc = nn.Linear(hidden_dim, output_size)\n",
    "\n",
    "        self.softmax = nn.Softmax(dim=-1)\n",
    "\n",
    "        self.device = device\n",
    "    \n",
    "    def forward(self, x):\n",
    "\n",
    "        x = self.embedding(x)\n",
    "\n",
    "        x = x[:,:,0,:]\n",
    "        \n",
    "        batch_size = x.size(0)\n",
    "\n",
    "        # Initializing hidden state for first input using method defined below\n",
    "        hidden = self.init_hidden(batch_size)\n",
    "\n",
    "        c = self.init_hidden(batch_size)\n",
    "\n",
    "        # Passing in the input and hidden state into the model and obtaining outputs\n",
    "        out, (hidden, c) = self.lstm(x, (hidden,c))\n",
    "        \n",
    "        # Reshaping the outputs such that it can be fit into the fully connected layer\n",
    "        out = out.contiguous().view(-1, self.hidden_dim)\n",
    "        out = self.fc(out)\n",
    "\n",
    "        out = self.softmax(out)\n",
    "        \n",
    "        return out, (hidden.to(self.device),c.to(self.device))\n",
    "    \n",
    "    def init_hidden(self, batch_size):\n",
    "        # This method generates the first hidden state of zeros which we'll use in the forward pass\n",
    "        # We'll send the tensor holding the hidden state to the device we specified earlier as well\n",
    "        hidden = torch.zeros(self.n_layers, batch_size, self.hidden_dim)\n",
    "        return hidden.to(self.device)\n"
   ]
  },
  {
   "cell_type": "code",
   "execution_count": 42,
   "metadata": {
    "colab": {
     "base_uri": "https://localhost:8080/"
    },
    "id": "WzdnypzQaDAH",
    "outputId": "fd0c7193-4cd6-47f1-e53f-e97acc43023b"
   },
   "outputs": [
    {
     "name": "stdout",
     "output_type": "stream",
     "text": [
      "GPU is available\n"
     ]
    }
   ],
   "source": [
    "# torch.cuda.is_available() checks and returns a Boolean True if a GPU is available, else it'll return False\n",
    "is_cuda = torch.cuda.is_available()\n",
    "\n",
    "# If we have a GPU available, we'll set our device to GPU. We'll use this device variable later in our code.\n",
    "if is_cuda:\n",
    "    device = torch.device(\"cuda\")\n",
    "    print(\"GPU is available\")    \n",
    "else:\n",
    "    device = torch.device(\"cpu\")\n",
    "    print(\"GPU not available, CPU used\")"
   ]
  },
  {
   "cell_type": "code",
   "execution_count": 43,
   "metadata": {
    "id": "XEudqCaYaFEw"
   },
   "outputs": [],
   "source": [
    "model = LSTM_model(input_size=80, output_size=2, hidden_dim=20, n_layers=1, device = device)\n",
    "model = model.to(device)"
   ]
  },
  {
   "cell_type": "code",
   "execution_count": 44,
   "metadata": {
    "id": "LXhAl7J5aGUx"
   },
   "outputs": [],
   "source": [
    "n_epochs = 100\n",
    "lr=0.01*2\n",
    "\n",
    "# Define Loss, Optimizer\n",
    "criterion = nn.CrossEntropyLoss()\n",
    "optimizer = torch.optim.Adam(model.parameters(), lr=lr)"
   ]
  },
  {
   "cell_type": "code",
   "execution_count": 45,
   "metadata": {
    "colab": {
     "base_uri": "https://localhost:8080/"
    },
    "id": "viXbwKMNaIJ7",
    "outputId": "60d9e6e1-d794-48f4-f7a1-2fd94377ca86"
   },
   "outputs": [
    {
     "name": "stdout",
     "output_type": "stream",
     "text": [
      "Epoch: 1/100............. Loss Train Epoch: 0.7423............. Time Epoch: 0.23979949951171875\n",
      "Epoch: 2/100............. Loss Train Epoch: 0.5526............. Time Epoch: 0.23847365379333496\n",
      "Epoch: 3/100............. Loss Train Epoch: 0.5078............. Time Epoch: 0.23006486892700195\n",
      "Epoch: 4/100............. Loss Train Epoch: 0.4842............. Time Epoch: 0.23374342918395996\n",
      "Epoch: 5/100............. Loss Train Epoch: 0.4712............. Time Epoch: 0.23759126663208008\n",
      "Epoch: 6/100............. Loss Train Epoch: 0.4626............. Time Epoch: 0.2301018238067627\n",
      "Epoch: 7/100............. Loss Train Epoch: 0.4565............. Time Epoch: 0.23421406745910645\n",
      "Epoch: 8/100............. Loss Train Epoch: 0.4520............. Time Epoch: 0.23201441764831543\n",
      "Epoch: 9/100............. Loss Train Epoch: 0.4487............. Time Epoch: 0.2304975986480713\n",
      "Epoch: 10/100............. Loss Train Epoch: 0.4466............. Time Epoch: 0.23283815383911133\n",
      "Epoch: 11/100............. Loss Train Epoch: 0.4449............. Time Epoch: 0.23172283172607422\n",
      "Epoch: 12/100............. Loss Train Epoch: 0.4436............. Time Epoch: 0.22916126251220703\n",
      "Epoch: 13/100............. Loss Train Epoch: 0.4426............. Time Epoch: 0.23208880424499512\n",
      "Epoch: 14/100............. Loss Train Epoch: 0.4418............. Time Epoch: 0.23293280601501465\n",
      "Epoch: 15/100............. Loss Train Epoch: 0.4409............. Time Epoch: 0.24022150039672852\n",
      "Epoch: 16/100............. Loss Train Epoch: 0.4402............. Time Epoch: 0.23018980026245117\n",
      "Epoch: 17/100............. Loss Train Epoch: 0.4397............. Time Epoch: 0.22810077667236328\n",
      "Epoch: 18/100............. Loss Train Epoch: 0.4393............. Time Epoch: 0.23137879371643066\n",
      "Epoch: 19/100............. Loss Train Epoch: 0.4387............. Time Epoch: 0.2335667610168457\n",
      "Epoch: 20/100............. Loss Train Epoch: 0.4383............. Time Epoch: 0.23266005516052246\n",
      "Epoch: 21/100............. Loss Train Epoch: 0.4378............. Time Epoch: 0.22841858863830566\n",
      "Epoch: 22/100............. Loss Train Epoch: 0.4375............. Time Epoch: 0.22833895683288574\n",
      "Epoch: 23/100............. Loss Train Epoch: 0.4371............. Time Epoch: 0.2350630760192871\n",
      "Epoch: 24/100............. Loss Train Epoch: 0.4368............. Time Epoch: 0.23476696014404297\n",
      "Epoch: 25/100............. Loss Train Epoch: 0.4364............. Time Epoch: 0.22857308387756348\n",
      "Epoch: 26/100............. Loss Train Epoch: 0.4358............. Time Epoch: 0.23197078704833984\n",
      "Epoch: 27/100............. Loss Train Epoch: 0.4355............. Time Epoch: 0.2310166358947754\n",
      "Epoch: 28/100............. Loss Train Epoch: 0.4351............. Time Epoch: 0.23989486694335938\n",
      "Epoch: 29/100............. Loss Train Epoch: 0.4347............. Time Epoch: 0.2319478988647461\n",
      "Epoch: 30/100............. Loss Train Epoch: 0.4343............. Time Epoch: 0.23822879791259766\n",
      "Epoch: 31/100............. Loss Train Epoch: 0.4340............. Time Epoch: 0.23149824142456055\n",
      "Epoch: 32/100............. Loss Train Epoch: 0.4336............. Time Epoch: 0.23187017440795898\n",
      "Epoch: 33/100............. Loss Train Epoch: 0.4332............. Time Epoch: 0.23348784446716309\n",
      "Epoch: 34/100............. Loss Train Epoch: 0.4328............. Time Epoch: 0.22909855842590332\n",
      "Epoch: 35/100............. Loss Train Epoch: 0.4324............. Time Epoch: 0.24013161659240723\n",
      "Epoch: 36/100............. Loss Train Epoch: 0.4320............. Time Epoch: 0.22941970825195312\n",
      "Epoch: 37/100............. Loss Train Epoch: 0.4316............. Time Epoch: 0.23598313331604004\n",
      "Epoch: 38/100............. Loss Train Epoch: 0.4312............. Time Epoch: 0.2318708896636963\n",
      "Epoch: 39/100............. Loss Train Epoch: 0.4307............. Time Epoch: 0.23063993453979492\n",
      "Epoch: 40/100............. Loss Train Epoch: 0.4303............. Time Epoch: 0.22933197021484375\n",
      "Epoch: 41/100............. Loss Train Epoch: 0.4298............. Time Epoch: 0.23284506797790527\n",
      "Epoch: 42/100............. Loss Train Epoch: 0.4293............. Time Epoch: 0.23003196716308594\n",
      "Epoch: 43/100............. Loss Train Epoch: 0.4286............. Time Epoch: 0.23039841651916504\n",
      "Epoch: 44/100............. Loss Train Epoch: 0.4281............. Time Epoch: 0.22967028617858887\n",
      "Epoch: 45/100............. Loss Train Epoch: 0.4274............. Time Epoch: 0.2275221347808838\n",
      "Epoch: 46/100............. Loss Train Epoch: 0.4267............. Time Epoch: 0.23353934288024902\n",
      "Epoch: 47/100............. Loss Train Epoch: 0.4257............. Time Epoch: 0.2281947135925293\n",
      "Epoch: 48/100............. Loss Train Epoch: 0.4247............. Time Epoch: 0.2302088737487793\n",
      "Epoch: 49/100............. Loss Train Epoch: 0.4235............. Time Epoch: 0.22878456115722656\n",
      "Epoch: 50/100............. Loss Train Epoch: 0.4222............. Time Epoch: 0.23402881622314453\n",
      "Epoch: 51/100............. Loss Train Epoch: 0.4209............. Time Epoch: 0.23023462295532227\n",
      "Epoch: 52/100............. Loss Train Epoch: 0.4196............. Time Epoch: 0.23242759704589844\n",
      "Epoch: 53/100............. Loss Train Epoch: 0.4184............. Time Epoch: 0.22970962524414062\n",
      "Epoch: 54/100............. Loss Train Epoch: 0.4174............. Time Epoch: 0.23169541358947754\n",
      "Epoch: 55/100............. Loss Train Epoch: 0.4165............. Time Epoch: 0.2362518310546875\n",
      "Epoch: 56/100............. Loss Train Epoch: 0.4158............. Time Epoch: 0.23161935806274414\n",
      "Epoch: 57/100............. Loss Train Epoch: 0.4151............. Time Epoch: 0.22800588607788086\n",
      "Epoch: 58/100............. Loss Train Epoch: 0.4146............. Time Epoch: 0.23002076148986816\n",
      "Epoch: 59/100............. Loss Train Epoch: 0.4141............. Time Epoch: 0.2318258285522461\n",
      "Epoch: 60/100............. Loss Train Epoch: 0.4136............. Time Epoch: 0.2273101806640625\n",
      "Epoch: 61/100............. Loss Train Epoch: 0.4132............. Time Epoch: 0.23219752311706543\n",
      "Epoch: 62/100............. Loss Train Epoch: 0.4130............. Time Epoch: 0.22781968116760254\n",
      "Epoch: 63/100............. Loss Train Epoch: 0.4125............. Time Epoch: 0.23322057723999023\n",
      "Epoch: 64/100............. Loss Train Epoch: 0.4118............. Time Epoch: 0.2323131561279297\n",
      "Epoch: 65/100............. Loss Train Epoch: 0.4103............. Time Epoch: 0.23099136352539062\n",
      "Epoch: 66/100............. Loss Train Epoch: 0.4063............. Time Epoch: 0.22882366180419922\n",
      "Epoch: 67/100............. Loss Train Epoch: 0.3931............. Time Epoch: 0.23301315307617188\n",
      "Epoch: 68/100............. Loss Train Epoch: 0.3534............. Time Epoch: 0.23085737228393555\n",
      "Epoch: 69/100............. Loss Train Epoch: 0.3321............. Time Epoch: 0.2292783260345459\n",
      "Epoch: 70/100............. Loss Train Epoch: 0.3286............. Time Epoch: 0.23096776008605957\n",
      "Epoch: 71/100............. Loss Train Epoch: 0.3201............. Time Epoch: 0.23122143745422363\n",
      "Epoch: 72/100............. Loss Train Epoch: 0.3212............. Time Epoch: 0.2392895221710205\n",
      "Epoch: 73/100............. Loss Train Epoch: 0.3216............. Time Epoch: 0.23029661178588867\n",
      "Epoch: 74/100............. Loss Train Epoch: 0.3230............. Time Epoch: 0.23189067840576172\n",
      "Epoch: 75/100............. Loss Train Epoch: 0.3245............. Time Epoch: 0.2305305004119873\n",
      "Epoch: 76/100............. Loss Train Epoch: 0.3229............. Time Epoch: 0.23364973068237305\n",
      "Epoch: 77/100............. Loss Train Epoch: 0.3196............. Time Epoch: 0.2328319549560547\n",
      "Epoch: 78/100............. Loss Train Epoch: 0.3185............. Time Epoch: 0.23225808143615723\n",
      "Epoch: 79/100............. Loss Train Epoch: 0.3180............. Time Epoch: 0.2391529083251953\n",
      "Epoch: 80/100............. Loss Train Epoch: 0.3170............. Time Epoch: 0.230987548828125\n",
      "Epoch: 81/100............. Loss Train Epoch: 0.3167............. Time Epoch: 0.2347416877746582\n",
      "Epoch: 82/100............. Loss Train Epoch: 0.3165............. Time Epoch: 0.23139286041259766\n",
      "Epoch: 83/100............. Loss Train Epoch: 0.3164............. Time Epoch: 0.23049402236938477\n",
      "Epoch: 84/100............. Loss Train Epoch: 0.3163............. Time Epoch: 0.22960591316223145\n",
      "Epoch: 85/100............. Loss Train Epoch: 0.3162............. Time Epoch: 0.2344965934753418\n",
      "Epoch: 86/100............. Loss Train Epoch: 0.3161............. Time Epoch: 0.2348310947418213\n",
      "Epoch: 87/100............. Loss Train Epoch: 0.3161............. Time Epoch: 0.23033952713012695\n",
      "Epoch: 88/100............. Loss Train Epoch: 0.3165............. Time Epoch: 0.22979450225830078\n",
      "Epoch: 89/100............. Loss Train Epoch: 0.3158............. Time Epoch: 0.23628687858581543\n",
      "Epoch: 90/100............. Loss Train Epoch: 0.3157............. Time Epoch: 0.23713040351867676\n",
      "Epoch: 91/100............. Loss Train Epoch: 0.3156............. Time Epoch: 0.23130345344543457\n",
      "Epoch: 92/100............. Loss Train Epoch: 0.3155............. Time Epoch: 0.23035693168640137\n",
      "Epoch: 93/100............. Loss Train Epoch: 0.3154............. Time Epoch: 0.2300584316253662\n",
      "Epoch: 94/100............. Loss Train Epoch: 0.3153............. Time Epoch: 0.23291301727294922\n",
      "Epoch: 95/100............. Loss Train Epoch: 0.3153............. Time Epoch: 0.23595333099365234\n",
      "Epoch: 96/100............. Loss Train Epoch: 0.3152............. Time Epoch: 0.2298293113708496\n",
      "Epoch: 97/100............. Loss Train Epoch: 0.3152............. Time Epoch: 0.23337054252624512\n",
      "Epoch: 98/100............. Loss Train Epoch: 0.3151............. Time Epoch: 0.23134756088256836\n",
      "Epoch: 99/100............. Loss Train Epoch: 0.3150............. Time Epoch: 0.23073339462280273\n",
      "Epoch: 100/100............. Loss Train Epoch: 0.3150............. Time Epoch: 0.2332916259765625\n"
     ]
    }
   ],
   "source": [
    "# Entrenamiento\n",
    "\n",
    "epocas_totales_lstm = []\n",
    "loss_train_totales_lstm = []\n",
    "prec_train_totales_lstm = []\n",
    "\n",
    "for epoch in range(1, n_epochs + 1):\n",
    "\n",
    "  start = time.time()\n",
    "\n",
    "  model.train()\n",
    "\n",
    "  optimizer.zero_grad() # Clears existing gradients from previous epoch\n",
    "\n",
    "  output_train, _ = model(input_seq_train)\n",
    "  loss_train = criterion(output_train, target_seq_train.view(-1).long())\n",
    "  loss_train.backward() # Does backpropagation and calculates gradients\n",
    "  optimizer.step() # Updates the weights accordingly\n",
    "\n",
    "  pred_train = calcular_predicciones(output_train)\n",
    "\n",
    "  prec_train = calcular_precicision(pred_train, label_train)\n",
    "\n",
    "  epocas_totales_lstm.append(epoch)\n",
    "  loss_train_totales_lstm.append(loss_train)\n",
    "  prec_train_totales_lstm.append(prec_train)\n",
    "\n",
    "  end = time.time()\n",
    "\n",
    "  print('Epoch: {}/{}.............'.format(epoch, n_epochs), end=' ')\n",
    "  print(\"Loss Train Epoch: {:.4f}.............\".format(loss_train.item()), end =' ')\n",
    "  print(\"Time Epoch: {}\".format(end-start))"
   ]
  },
  {
   "cell_type": "markdown",
   "metadata": {
    "id": "m-GOnnLsgjUR"
   },
   "source": [
    "**Comparación resultados de los modelos LSTM vs RNN**"
   ]
  },
  {
   "cell_type": "markdown",
   "metadata": {
    "id": "NRJLHPt6gp35"
   },
   "source": [
    "**Evolución de la funcion de perdida**"
   ]
  },
  {
   "cell_type": "code",
   "execution_count": 47,
   "metadata": {
    "colab": {
     "base_uri": "https://localhost:8080/",
     "height": 428
    },
    "id": "Lavwy7JLaLVg",
    "outputId": "258643b6-bf1c-45f4-e6bb-a53a80587b87"
   },
   "outputs": [
    {
     "data": {
      "image/png": "[encoded data removed]",
      "text/plain": [
       "<Figure size 720x504 with 1 Axes>"
      ]
     },
     "metadata": {
      "needs_background": "light",
      "tags": []
     },
     "output_type": "display_data"
    }
   ],
   "source": [
    "plt.figure(figsize=(10,7))\n",
    "\n",
    "plt.plot(epocas_totales_lstm, loss_train_totales_lstm, color = \"red\")\n",
    "plt.legend(['Perdida de Entrenamiento LSTM'], loc='upper left')\n",
    "\n",
    "plt.show()"
   ]
  },
  {
   "cell_type": "markdown",
   "metadata": {
    "id": "UuqqijU2gv0i"
   },
   "source": [
    "$ \\underline{Comentario: }  $ Notemos que en LSTM el modelo converge en la epoca 70 a un valor muy pequeño, el cual es muy similar al valor al que converge el modelo RNN."
   ]
  },
  {
   "cell_type": "markdown",
   "metadata": {
    "id": "RVBnEQSBhA9G"
   },
   "source": [
    "**Evolución de la precision**"
   ]
  },
  {
   "cell_type": "code",
   "execution_count": 49,
   "metadata": {
    "colab": {
     "base_uri": "https://localhost:8080/",
     "height": 428
    },
    "id": "H2k0KlOTgtBe",
    "outputId": "7ce17ed2-9975-4219-ce90-5c64eaa58902"
   },
   "outputs": [
    {
     "data": {
      "image/png": "[encoded data removed]",
      "text/plain": [
       "<Figure size 720x504 with 1 Axes>"
      ]
     },
     "metadata": {
      "needs_background": "light",
      "tags": []
     },
     "output_type": "display_data"
    }
   ],
   "source": [
    "plt.figure(figsize=(10,7))\n",
    "\n",
    "plt.plot(epocas_totales_lstm, prec_train_totales_lstm, color = \"red\")\n",
    "plt.legend(['Precisión de Entrenamiento LSTM'], loc='upper left')\n",
    "\n",
    "plt.show()"
   ]
  },
  {
   "cell_type": "markdown",
   "metadata": {
    "id": "lF6KeUvihJAY"
   },
   "source": [
    "$ \\underline{Comentario: }  $ Notemos que ambos modelos (LSTM y RNN) convergen a una precisión casi igual."
   ]
  },
  {
   "cell_type": "code",
   "execution_count": 50,
   "metadata": {
    "colab": {
     "base_uri": "https://localhost:8080/"
    },
    "id": "nFhI7fzthjXl",
    "outputId": "59428529-757a-4530-8f34-6bd2366ef837"
   },
   "outputs": [
    {
     "name": "stdout",
     "output_type": "stream",
     "text": [
      "GPU is available\n"
     ]
    }
   ],
   "source": [
    "# torch.cuda.is_available() checks and returns a Boolean True if a GPU is available, else it'll return False\n",
    "is_cuda = torch.cuda.is_available()\n",
    "\n",
    "# If we have a GPU available, we'll set our device to GPU. We'll use this device variable later in our code.\n",
    "if is_cuda:\n",
    "    device = torch.device(\"cuda\")\n",
    "    print(\"GPU is available\")    \n",
    "else:\n",
    "    device = torch.device(\"cpu\")\n",
    "    print(\"GPU not available, CPU used\")"
   ]
  },
  {
   "cell_type": "code",
   "execution_count": 52,
   "metadata": {
    "colab": {
     "base_uri": "https://localhost:8080/"
    },
    "id": "tjMbNCQ5hEKM",
    "outputId": "8ea2b92c-c5cd-42f8-92b4-589952a0eefd"
   },
   "outputs": [
    {
     "name": "stdout",
     "output_type": "stream",
     "text": [
      "Numero de parametros RNN:  784882\n",
      "Numero de parametros LSTM:  789742\n"
     ]
    }
   ],
   "source": [
    "model_rnn = Model(input_size=80, output_size=2, hidden_dim=60, n_layers=1, device = device, dict_size = dict_size)\n",
    "model_lstm = LSTM_model(input_size=80, output_size=2, hidden_dim=30, n_layers=1, device = device)\n",
    "\n",
    "num_rnn = num_trainable_parameters(model_rnn)\n",
    "num_lstm = num_trainable_parameters(model_lstm)\n",
    "\n",
    "print(\"Numero de parametros RNN: \", num_rnn)\n",
    "print(\"Numero de parametros LSTM: \", num_lstm)"
   ]
  },
  {
   "cell_type": "markdown",
   "metadata": {
    "id": "rl-tn2O_h7C2"
   },
   "source": [
    "$ \\underline{Comentario: }  $ Notemos que el modelo LSTM tiene más parametros que el modelo RNN, y como ambos modelos convergen a una precisión y función de perdida similares, entonces elegiremos como mejor modelo a **RNN**."
   ]
  },
  {
   "cell_type": "markdown",
   "metadata": {
    "id": "yEdlXoqEiXbS"
   },
   "source": [
    "**Reporte de resultados de LSTM**"
   ]
  },
  {
   "cell_type": "markdown",
   "metadata": {
    "id": "iXmwGen1iN52"
   },
   "source": [
    "Ahora para el modelo ya entrenado, reportaremos la precisión en los sets de:\n",
    "\n",
    "a. Entrenamiento. $ \\\\ $\n",
    "\n",
    "b. Validación. $ \\\\ $\n",
    "\n",
    "b. Test. $ \\\\ $"
   ]
  },
  {
   "cell_type": "markdown",
   "metadata": {
    "id": "pVyH_NIniUdC"
   },
   "source": [
    "**Desempeño en el train set**"
   ]
  },
  {
   "cell_type": "code",
   "execution_count": 53,
   "metadata": {
    "colab": {
     "base_uri": "https://localhost:8080/"
    },
    "id": "AckNoQ1EiUdC",
    "outputId": "0b8bf379-5b81-4296-bf1c-12dc9d9eb8d4"
   },
   "outputs": [
    {
     "name": "stdout",
     "output_type": "stream",
     "text": [
      "Precisión en el train set:  99.97\n"
     ]
    }
   ],
   "source": [
    "model.eval()\n",
    "output_train, _ = model(input_seq_train)\n",
    "\n",
    "pred_train = calcular_predicciones(output_train)\n",
    "prec_train = calcular_precicision(pred_train, label_train)\n",
    "print(\"Precisión en el train set: \", round(prec_train*100, 2))"
   ]
  },
  {
   "cell_type": "markdown",
   "metadata": {
    "id": "z7lZNfxEiUdD"
   },
   "source": [
    "$ \\underline{Comentario:} $ La precisión en el **train set** es de $99,97 \\% $."
   ]
  },
  {
   "cell_type": "markdown",
   "metadata": {
    "id": "h75EyNZQiUdD"
   },
   "source": [
    "**Desempeño en el val set**"
   ]
  },
  {
   "cell_type": "code",
   "execution_count": 54,
   "metadata": {
    "colab": {
     "base_uri": "https://localhost:8080/"
    },
    "id": "FYUJNuS3iUdD",
    "outputId": "6f57ff66-34b4-477a-fc08-90ee9490d75d"
   },
   "outputs": [
    {
     "name": "stdout",
     "output_type": "stream",
     "text": [
      "Precisión en el val set:  93.36\n"
     ]
    }
   ],
   "source": [
    "model.eval()\n",
    "output_val, _ = model(input_seq_val)\n",
    "\n",
    "pred_val = calcular_predicciones(output_val)\n",
    "prec_val = calcular_precicision(pred_val, label_val)\n",
    "print(\"Precisión en el val set: \", round(prec_val*100, 2))"
   ]
  },
  {
   "cell_type": "markdown",
   "metadata": {
    "id": "LBJpfCvaiUdD"
   },
   "source": [
    "$ \\underline{Comentario:} $ La precisión en el **val set** es de $93,36 \\% $."
   ]
  },
  {
   "cell_type": "markdown",
   "metadata": {
    "id": "yTHo2BNjiUdD"
   },
   "source": [
    "**Desempeño en el test set**"
   ]
  },
  {
   "cell_type": "code",
   "execution_count": 55,
   "metadata": {
    "colab": {
     "base_uri": "https://localhost:8080/"
    },
    "id": "qZt3eXxTiUdE",
    "outputId": "2c907ac8-7344-4e2c-aed7-80d2fcc8a00d"
   },
   "outputs": [
    {
     "name": "stdout",
     "output_type": "stream",
     "text": [
      "Precisión en el test set:  94.62\n"
     ]
    }
   ],
   "source": [
    "model.eval()\n",
    "output_test, _ = model(input_seq_test)\n",
    "\n",
    "pred_test = calcular_predicciones(output_test)\n",
    "prec_test = calcular_precicision(pred_test, label_test)\n",
    "print(\"Precisión en el test set: \", round(prec_test*100, 2))"
   ]
  },
  {
   "cell_type": "markdown",
   "metadata": {
    "id": "le5XvDl-iUdE"
   },
   "source": [
    "$ \\underline{Comentario:} $ La precisión en el **test set** es de $94,62 \\% $."
   ]
  },
  {
   "cell_type": "markdown",
   "metadata": {
    "id": "dFa4XnvliUdE"
   },
   "source": [
    "$ \\underline{Comentario \\ general:} $ \n",
    "\n",
    "Notemos que la precisión tanto en el train, val y test set son similares, por ende, esto nos habla de que **no hay overfitting** y además de eso llegamos a un muy buen valor de clasificación. Por otro lado, en general, tanto la precisión como al función de perdida convergen de manera **mas suave** en LSTM que en RNN."
   ]
  },
  {
   "cell_type": "markdown",
   "metadata": {
    "id": "3KGbEWfCjbvk"
   },
   "source": [
    "## **Actividad 5:**"
   ]
  },
  {
   "cell_type": "markdown",
   "metadata": {
    "id": "1zfsxMJ8jnYP"
   },
   "source": [
    "# Segunda capa recurrente: "
   ]
  },
  {
   "cell_type": "code",
   "execution_count": 63,
   "metadata": {
    "colab": {
     "base_uri": "https://localhost:8080/"
    },
    "id": "264Po_qvjdlh",
    "outputId": "db301eb7-6cb5-476c-9ff2-a67bee0ec2a7"
   },
   "outputs": [
    {
     "name": "stdout",
     "output_type": "stream",
     "text": [
      "GPU is available\n"
     ]
    }
   ],
   "source": [
    "# torch.cuda.is_available() checks and returns a Boolean True if a GPU is available, else it'll return False\n",
    "is_cuda = torch.cuda.is_available()\n",
    "\n",
    "# If we have a GPU available, we'll set our device to GPU. We'll use this device variable later in our code.\n",
    "if is_cuda:\n",
    "    device = torch.device(\"cuda\")\n",
    "    print(\"GPU is available\")    \n",
    "else:\n",
    "    device = torch.device(\"cpu\")\n",
    "    print(\"GPU not available, CPU used\")"
   ]
  },
  {
   "cell_type": "code",
   "execution_count": 92,
   "metadata": {
    "id": "dCZZFWCLjdpc"
   },
   "outputs": [],
   "source": [
    "model = Model(input_size=80, output_size=2, hidden_dim=10, n_layers=2, device = device, dict_size = dict_size)\n",
    "model = model.to(device)"
   ]
  },
  {
   "cell_type": "code",
   "execution_count": 93,
   "metadata": {
    "id": "WxhmurxbjdsD"
   },
   "outputs": [],
   "source": [
    "n_epochs = 100\n",
    "lr=0.01*10\n",
    "\n",
    "# Define Loss, Optimizer\n",
    "criterion = nn.CrossEntropyLoss()\n",
    "optimizer = torch.optim.Adam(model.parameters(), lr=lr)\n",
    "target_seq_train = target_seq_train.to(device)"
   ]
  },
  {
   "cell_type": "code",
   "execution_count": 94,
   "metadata": {
    "colab": {
     "base_uri": "https://localhost:8080/"
    },
    "id": "O3a6RT6wjcNF",
    "outputId": "37e64063-5a3b-4b48-e4bc-0e52e9fde1a0"
   },
   "outputs": [
    {
     "name": "stdout",
     "output_type": "stream",
     "text": [
      "Epoch: 1/100............. Loss Train Epoch: 0.6109............. Time Epoch: 0.0897059440612793\n",
      "Epoch: 2/100............. Loss Train Epoch: 0.4740............. Time Epoch: 0.08512377738952637\n",
      "Epoch: 3/100............. Loss Train Epoch: 0.4466............. Time Epoch: 0.08224678039550781\n",
      "Epoch: 4/100............. Loss Train Epoch: 0.4409............. Time Epoch: 0.0829477310180664\n",
      "Epoch: 5/100............. Loss Train Epoch: 0.4381............. Time Epoch: 0.0825655460357666\n",
      "Epoch: 6/100............. Loss Train Epoch: 0.4365............. Time Epoch: 0.08288788795471191\n",
      "Epoch: 7/100............. Loss Train Epoch: 0.4357............. Time Epoch: 0.08275628089904785\n",
      "Epoch: 8/100............. Loss Train Epoch: 0.4350............. Time Epoch: 0.08235406875610352\n",
      "Epoch: 9/100............. Loss Train Epoch: 0.4345............. Time Epoch: 0.08155155181884766\n",
      "Epoch: 10/100............. Loss Train Epoch: 0.4343............. Time Epoch: 0.08261442184448242\n",
      "Epoch: 11/100............. Loss Train Epoch: 0.4343............. Time Epoch: 0.08284354209899902\n",
      "Epoch: 12/100............. Loss Train Epoch: 0.4342............. Time Epoch: 0.08231544494628906\n",
      "Epoch: 13/100............. Loss Train Epoch: 0.4340............. Time Epoch: 0.08202362060546875\n",
      "Epoch: 14/100............. Loss Train Epoch: 0.4338............. Time Epoch: 0.08274579048156738\n",
      "Epoch: 15/100............. Loss Train Epoch: 0.4337............. Time Epoch: 0.0821683406829834\n",
      "Epoch: 16/100............. Loss Train Epoch: 0.4336............. Time Epoch: 0.08283352851867676\n",
      "Epoch: 17/100............. Loss Train Epoch: 0.4335............. Time Epoch: 0.08266949653625488\n",
      "Epoch: 18/100............. Loss Train Epoch: 0.4334............. Time Epoch: 0.08223223686218262\n",
      "Epoch: 19/100............. Loss Train Epoch: 0.4330............. Time Epoch: 0.0823972225189209\n",
      "Epoch: 20/100............. Loss Train Epoch: 0.4326............. Time Epoch: 0.08211660385131836\n",
      "Epoch: 21/100............. Loss Train Epoch: 0.4324............. Time Epoch: 0.08252477645874023\n",
      "Epoch: 22/100............. Loss Train Epoch: 0.4322............. Time Epoch: 0.08162999153137207\n",
      "Epoch: 23/100............. Loss Train Epoch: 0.4321............. Time Epoch: 0.08203458786010742\n",
      "Epoch: 24/100............. Loss Train Epoch: 0.4319............. Time Epoch: 0.0827643871307373\n",
      "Epoch: 25/100............. Loss Train Epoch: 0.4319............. Time Epoch: 0.08199095726013184\n",
      "Epoch: 26/100............. Loss Train Epoch: 0.4318............. Time Epoch: 0.08204436302185059\n",
      "Epoch: 27/100............. Loss Train Epoch: 0.4316............. Time Epoch: 0.0826425552368164\n",
      "Epoch: 28/100............. Loss Train Epoch: 0.4314............. Time Epoch: 0.08224034309387207\n",
      "Epoch: 29/100............. Loss Train Epoch: 0.4314............. Time Epoch: 0.08238601684570312\n",
      "Epoch: 30/100............. Loss Train Epoch: 0.4313............. Time Epoch: 0.08177518844604492\n",
      "Epoch: 31/100............. Loss Train Epoch: 0.4312............. Time Epoch: 0.08234286308288574\n",
      "Epoch: 32/100............. Loss Train Epoch: 0.4311............. Time Epoch: 0.08262515068054199\n",
      "Epoch: 33/100............. Loss Train Epoch: 0.4310............. Time Epoch: 0.0820467472076416\n",
      "Epoch: 34/100............. Loss Train Epoch: 0.4310............. Time Epoch: 0.08240270614624023\n",
      "Epoch: 35/100............. Loss Train Epoch: 0.4309............. Time Epoch: 0.08216714859008789\n",
      "Epoch: 36/100............. Loss Train Epoch: 0.4310............. Time Epoch: 0.08217096328735352\n",
      "Epoch: 37/100............. Loss Train Epoch: 0.4309............. Time Epoch: 0.08113837242126465\n",
      "Epoch: 38/100............. Loss Train Epoch: 0.4308............. Time Epoch: 0.0821828842163086\n",
      "Epoch: 39/100............. Loss Train Epoch: 0.4309............. Time Epoch: 0.08222627639770508\n",
      "Epoch: 40/100............. Loss Train Epoch: 0.4308............. Time Epoch: 0.08202695846557617\n",
      "Epoch: 41/100............. Loss Train Epoch: 0.4307............. Time Epoch: 0.08217358589172363\n",
      "Epoch: 42/100............. Loss Train Epoch: 0.4307............. Time Epoch: 0.08197426795959473\n",
      "Epoch: 43/100............. Loss Train Epoch: 0.4307............. Time Epoch: 0.08234953880310059\n",
      "Epoch: 44/100............. Loss Train Epoch: 0.4306............. Time Epoch: 0.08208703994750977\n",
      "Epoch: 45/100............. Loss Train Epoch: 0.4303............. Time Epoch: 0.08195352554321289\n",
      "Epoch: 46/100............. Loss Train Epoch: 0.4301............. Time Epoch: 0.0825185775756836\n",
      "Epoch: 47/100............. Loss Train Epoch: 0.4300............. Time Epoch: 0.08225750923156738\n",
      "Epoch: 48/100............. Loss Train Epoch: 0.4292............. Time Epoch: 0.08228230476379395\n",
      "Epoch: 49/100............. Loss Train Epoch: 0.4276............. Time Epoch: 0.08194208145141602\n",
      "Epoch: 50/100............. Loss Train Epoch: 0.3232............. Time Epoch: 0.08214092254638672\n",
      "Epoch: 51/100............. Loss Train Epoch: 0.3265............. Time Epoch: 0.08207106590270996\n",
      "Epoch: 52/100............. Loss Train Epoch: 0.3275............. Time Epoch: 0.08223581314086914\n",
      "Epoch: 53/100............. Loss Train Epoch: 0.3280............. Time Epoch: 0.08238911628723145\n",
      "Epoch: 54/100............. Loss Train Epoch: 0.3270............. Time Epoch: 0.08244085311889648\n",
      "Epoch: 55/100............. Loss Train Epoch: 0.3236............. Time Epoch: 0.08303952217102051\n",
      "Epoch: 56/100............. Loss Train Epoch: 0.3227............. Time Epoch: 0.08221220970153809\n",
      "Epoch: 57/100............. Loss Train Epoch: 0.3218............. Time Epoch: 0.08240890502929688\n",
      "Epoch: 58/100............. Loss Train Epoch: 0.3205............. Time Epoch: 0.08247971534729004\n",
      "Epoch: 59/100............. Loss Train Epoch: 0.3200............. Time Epoch: 0.0825350284576416\n",
      "Epoch: 60/100............. Loss Train Epoch: 0.4276............. Time Epoch: 0.0828554630279541\n",
      "Epoch: 61/100............. Loss Train Epoch: 0.3208............. Time Epoch: 0.08230066299438477\n",
      "Epoch: 62/100............. Loss Train Epoch: 0.3219............. Time Epoch: 0.08242058753967285\n",
      "Epoch: 63/100............. Loss Train Epoch: 0.3226............. Time Epoch: 0.0819847583770752\n",
      "Epoch: 64/100............. Loss Train Epoch: 0.3240............. Time Epoch: 0.08246970176696777\n",
      "Epoch: 65/100............. Loss Train Epoch: 0.3245............. Time Epoch: 0.08219218254089355\n",
      "Epoch: 66/100............. Loss Train Epoch: 0.3242............. Time Epoch: 0.0829160213470459\n",
      "Epoch: 67/100............. Loss Train Epoch: 0.3237............. Time Epoch: 0.08240294456481934\n",
      "Epoch: 68/100............. Loss Train Epoch: 0.3224............. Time Epoch: 0.08197402954101562\n",
      "Epoch: 69/100............. Loss Train Epoch: 0.3228............. Time Epoch: 0.08216094970703125\n",
      "Epoch: 70/100............. Loss Train Epoch: 0.3228............. Time Epoch: 0.08205366134643555\n",
      "Epoch: 71/100............. Loss Train Epoch: 0.3221............. Time Epoch: 0.08215117454528809\n",
      "Epoch: 72/100............. Loss Train Epoch: 0.3221............. Time Epoch: 0.08357834815979004\n",
      "Epoch: 73/100............. Loss Train Epoch: 0.3223............. Time Epoch: 0.08230447769165039\n",
      "Epoch: 74/100............. Loss Train Epoch: 0.3220............. Time Epoch: 0.08259224891662598\n",
      "Epoch: 75/100............. Loss Train Epoch: 0.3212............. Time Epoch: 0.08180665969848633\n",
      "Epoch: 76/100............. Loss Train Epoch: 0.3209............. Time Epoch: 0.08218216896057129\n",
      "Epoch: 77/100............. Loss Train Epoch: 0.3209............. Time Epoch: 0.08214950561523438\n",
      "Epoch: 78/100............. Loss Train Epoch: 0.3206............. Time Epoch: 0.08219671249389648\n",
      "Epoch: 79/100............. Loss Train Epoch: 0.3204............. Time Epoch: 0.0822303295135498\n",
      "Epoch: 80/100............. Loss Train Epoch: 0.3218............. Time Epoch: 0.08197331428527832\n",
      "Epoch: 81/100............. Loss Train Epoch: 0.3220............. Time Epoch: 0.0825505256652832\n",
      "Epoch: 82/100............. Loss Train Epoch: 0.3220............. Time Epoch: 0.08217310905456543\n",
      "Epoch: 83/100............. Loss Train Epoch: 0.3217............. Time Epoch: 0.08218073844909668\n",
      "Epoch: 84/100............. Loss Train Epoch: 0.3219............. Time Epoch: 0.08242464065551758\n",
      "Epoch: 85/100............. Loss Train Epoch: 0.3226............. Time Epoch: 0.08207964897155762\n",
      "Epoch: 86/100............. Loss Train Epoch: 0.3219............. Time Epoch: 0.08249974250793457\n",
      "Epoch: 87/100............. Loss Train Epoch: 0.3211............. Time Epoch: 0.08417797088623047\n",
      "Epoch: 88/100............. Loss Train Epoch: 0.3216............. Time Epoch: 0.08297467231750488\n",
      "Epoch: 89/100............. Loss Train Epoch: 0.3211............. Time Epoch: 0.08225893974304199\n",
      "Epoch: 90/100............. Loss Train Epoch: 0.3209............. Time Epoch: 0.08214640617370605\n",
      "Epoch: 91/100............. Loss Train Epoch: 0.3206............. Time Epoch: 0.08251667022705078\n",
      "Epoch: 92/100............. Loss Train Epoch: 0.3201............. Time Epoch: 0.0821981430053711\n",
      "Epoch: 93/100............. Loss Train Epoch: 0.3201............. Time Epoch: 0.08190035820007324\n",
      "Epoch: 94/100............. Loss Train Epoch: 0.3198............. Time Epoch: 0.08245682716369629\n",
      "Epoch: 95/100............. Loss Train Epoch: 0.3200............. Time Epoch: 0.08186864852905273\n",
      "Epoch: 96/100............. Loss Train Epoch: 0.3205............. Time Epoch: 0.08219265937805176\n",
      "Epoch: 97/100............. Loss Train Epoch: 0.3202............. Time Epoch: 0.08245038986206055\n",
      "Epoch: 98/100............. Loss Train Epoch: 0.3200............. Time Epoch: 0.08193421363830566\n",
      "Epoch: 99/100............. Loss Train Epoch: 0.3202............. Time Epoch: 0.08197402954101562\n",
      "Epoch: 100/100............. Loss Train Epoch: 0.3200............. Time Epoch: 0.08215975761413574\n"
     ]
    }
   ],
   "source": [
    "# Entrenamiento\n",
    "\n",
    "epocas_totales_2_capa = []\n",
    "loss_train_totales_2_capa = []\n",
    "\n",
    "for epoch in range(1, n_epochs + 1):\n",
    "\n",
    "  start = time.time()\n",
    "\n",
    "  model.train()\n",
    "\n",
    "  optimizer.zero_grad() # Clears existing gradients from previous epoch\n",
    "\n",
    "  output_train, _ = model(input_seq_train)\n",
    "  loss_train = criterion(output_train, target_seq_train.view(-1).long())\n",
    "  loss_train.backward() # Does backpropagation and calculates gradients\n",
    "  optimizer.step() # Updates the weights accordingly\n",
    "\n",
    "  epocas_totales_2_capa.append(epoch)\n",
    "  loss_train_totales_2_capa.append(loss_train)\n",
    "\n",
    "  end = time.time()\n",
    "\n",
    "  print('Epoch: {}/{}.............'.format(epoch, n_epochs), end=' ')\n",
    "  print(\"Loss Train Epoch: {:.4f}.............\".format(loss_train.item()), end =' ')\n",
    "  print(\"Time Epoch: {}\".format(end-start))"
   ]
  },
  {
   "cell_type": "markdown",
   "metadata": {
    "id": "5khGmcHbkC5B"
   },
   "source": [
    "**Evolución de la funcion de perdida**"
   ]
  },
  {
   "cell_type": "code",
   "execution_count": 95,
   "metadata": {
    "colab": {
     "base_uri": "https://localhost:8080/",
     "height": 428
    },
    "id": "l5lEzKd8kC5E",
    "outputId": "1b1a6b03-0c22-444a-835d-444959e5cb59"
   },
   "outputs": [
    {
     "data": {
      "image/png": "[encoded data removed]",
      "text/plain": [
       "<Figure size 720x504 with 1 Axes>"
      ]
     },
     "metadata": {
      "needs_background": "light",
      "tags": []
     },
     "output_type": "display_data"
    }
   ],
   "source": [
    "plt.figure(figsize=(10,7))\n",
    "\n",
    "plt.plot(epocas_totales_2_capa, loss_train_totales_2_capa, color = \"red\")\n",
    "\n",
    "plt.legend(['Perdida de Entrenamiento 2 capa'], loc='upper left')\n",
    "\n",
    "plt.show()"
   ]
  },
  {
   "cell_type": "markdown",
   "metadata": {
    "id": "quxa-mVQkdnP"
   },
   "source": [
    "$ \\underline{Comentario: }  $ Notemos que el modelo converge a una función de perdida que tiene un valor similar a todos los otros modelos ya vistos."
   ]
  },
  {
   "cell_type": "markdown",
   "metadata": {
    "id": "oMrnUvaIkrz8"
   },
   "source": [
    "**Reporte de resultados 2 capa recurrente**"
   ]
  },
  {
   "cell_type": "markdown",
   "metadata": {
    "id": "pW8Hox4Pkrz9"
   },
   "source": [
    "Ahora para el modelo ya entrenado, reportaremos la precisión en los sets de:\n",
    "\n",
    "a. Entrenamiento. $ \\\\ $\n",
    "\n",
    "b. Validación. $ \\\\ $\n",
    "\n",
    "b. Test. $ \\\\ $"
   ]
  },
  {
   "cell_type": "markdown",
   "metadata": {
    "id": "Mw_wxAr6krz9"
   },
   "source": [
    "**Desempeño en el train set**"
   ]
  },
  {
   "cell_type": "code",
   "execution_count": 96,
   "metadata": {
    "colab": {
     "base_uri": "https://localhost:8080/"
    },
    "id": "tWKr-YYDkrz-",
    "outputId": "6c49a34d-a151-44f5-be96-8fc5f16d4f33"
   },
   "outputs": [
    {
     "name": "stdout",
     "output_type": "stream",
     "text": [
      "Precisión en el train set:  99.54\n"
     ]
    }
   ],
   "source": [
    "model.eval()\n",
    "output_train, _ = model(input_seq_train)\n",
    "\n",
    "pred_train = calcular_predicciones(output_train)\n",
    "prec_train = calcular_precicision(pred_train, label_train)\n",
    "print(\"Precisión en el train set: \", round(prec_train*100, 2))"
   ]
  },
  {
   "cell_type": "markdown",
   "metadata": {
    "id": "zjh3cCexkrz_"
   },
   "source": [
    "$ \\underline{Comentario:} $ La precisión en el **train set** es de $99,54 \\% $."
   ]
  },
  {
   "cell_type": "markdown",
   "metadata": {
    "id": "TEghdWaSkrz_"
   },
   "source": [
    "**Desempeño en el val set**"
   ]
  },
  {
   "cell_type": "code",
   "execution_count": 97,
   "metadata": {
    "colab": {
     "base_uri": "https://localhost:8080/"
    },
    "id": "bA9-1wlzkrz_",
    "outputId": "d9fe96b8-60c8-460b-f1f5-f91f44781920"
   },
   "outputs": [
    {
     "name": "stdout",
     "output_type": "stream",
     "text": [
      "Precisión en el val set:  95.7\n"
     ]
    }
   ],
   "source": [
    "model.eval()\n",
    "output_val, _ = model(input_seq_val)\n",
    "\n",
    "pred_val = calcular_predicciones(output_val)\n",
    "prec_val = calcular_precicision(pred_val, label_val)\n",
    "print(\"Precisión en el val set: \", round(prec_val*100, 2))"
   ]
  },
  {
   "cell_type": "markdown",
   "metadata": {
    "id": "m3DWj40Nkrz_"
   },
   "source": [
    "$ \\underline{Comentario:} $ La precisión en el **val set** es de $95,7 \\% $."
   ]
  },
  {
   "cell_type": "markdown",
   "metadata": {
    "id": "86YzKBWXkrz_"
   },
   "source": [
    "**Desempeño en el test set**"
   ]
  },
  {
   "cell_type": "code",
   "execution_count": 98,
   "metadata": {
    "colab": {
     "base_uri": "https://localhost:8080/"
    },
    "id": "xpz_nix0kr0A",
    "outputId": "d5d3a0a1-3d86-40e2-cb6d-c1bdbd354bd6"
   },
   "outputs": [
    {
     "name": "stdout",
     "output_type": "stream",
     "text": [
      "Precisión en el test set:  96.59\n"
     ]
    }
   ],
   "source": [
    "model.eval()\n",
    "output_test, _ = model(input_seq_test)\n",
    "\n",
    "pred_test = calcular_predicciones(output_test)\n",
    "prec_test = calcular_precicision(pred_test, label_test)\n",
    "print(\"Precisión en el test set: \", round(prec_test*100, 2))"
   ]
  },
  {
   "cell_type": "markdown",
   "metadata": {
    "id": "mH31HNNqkr0A"
   },
   "source": [
    "$ \\underline{Comentario:} $ La precisión en el **test set** es de $96,59 \\% $."
   ]
  },
  {
   "cell_type": "markdown",
   "metadata": {
    "id": "OoMdJd1tkr0A"
   },
   "source": [
    "$ \\underline{Comentario \\ general:} $ \n",
    "\n",
    "Notemos que la precisión tanto en el train, val y test set son similares, por ende, esto nos habla de que **no hay overfitting** y además de eso llegamos a un muy buen valor de clasificación."
   ]
  },
  {
   "cell_type": "markdown",
   "metadata": {
    "id": "dLzwrIFfle14"
   },
   "source": [
    "# RNN Bidireccional: "
   ]
  },
  {
   "cell_type": "code",
   "execution_count": 99,
   "metadata": {
    "id": "E_JEF8YdkzK-"
   },
   "outputs": [],
   "source": [
    "class Model_bi(nn.Module):\n",
    "    def __init__(self, input_size, output_size, hidden_dim, n_layers, device):\n",
    "        super(Model_bi, self).__init__()\n",
    "\n",
    "        # Defining some parameters\n",
    "        self.hidden_dim = hidden_dim\n",
    "        self.n_layers = n_layers\n",
    "\n",
    "        #Defining the layers\n",
    "        # RNN Layer\n",
    "\n",
    "        self.embedding = nn.Embedding(dict_size, input_size)\n",
    "\n",
    "        self.rnn = nn.RNN(input_size, hidden_dim, n_layers, batch_first=True, bidirectional=True)   \n",
    "        # Fully connected layer\n",
    "        self.fc = nn.Linear(hidden_dim, output_size)\n",
    "\n",
    "        self.softmax = nn.Softmax(dim=-1)\n",
    "\n",
    "        self.device = device\n",
    "\n",
    "    \n",
    "    def forward(self, x):\n",
    "\n",
    "        batch_size = x.size(0)\n",
    "\n",
    "        x = self.embedding(x)\n",
    "\n",
    "        x = x[:,:,0,:]\n",
    "\n",
    "        # Initializing hidden state for first input using method defined below\n",
    "        hidden = self.init_hidden(batch_size)\n",
    "\n",
    "        # Passing in the input and hidden state into the model and obtaining outputs\n",
    "        out, hidden = self.rnn(x, hidden)\n",
    "        \n",
    "        # Reshaping the outputs such that it can be fit into the fully connected layer\n",
    "        out = out.contiguous().view(-1, self.hidden_dim)\n",
    "        out = self.fc(out)\n",
    "\n",
    "        out = self.softmax(out)\n",
    "        \n",
    "        return out, hidden.to(self.device)\n",
    "    \n",
    "    def init_hidden(self, batch_size):\n",
    "        # This method generates the first hidden state of zeros which we'll use in the forward pass\n",
    "        # We'll send the tensor holding the hidden state to the device we specified earlier as well\n",
    "        hidden = torch.zeros(2, batch_size, self.hidden_dim)\n",
    "        return hidden.to(self.device)"
   ]
  },
  {
   "cell_type": "code",
   "execution_count": 347,
   "metadata": {
    "colab": {
     "base_uri": "https://localhost:8080/"
    },
    "id": "Dqh4bTa3l2fZ",
    "outputId": "264c12a9-f18e-4701-f3d7-b16f5768c1c6"
   },
   "outputs": [
    {
     "name": "stdout",
     "output_type": "stream",
     "text": [
      "GPU is available\n"
     ]
    }
   ],
   "source": [
    "# torch.cuda.is_available() checks and returns a Boolean True if a GPU is available, else it'll return False\n",
    "is_cuda = torch.cuda.is_available()\n",
    "\n",
    "# If we have a GPU available, we'll set our device to GPU. We'll use this device variable later in our code.\n",
    "if is_cuda:\n",
    "    device = torch.device(\"cuda\")\n",
    "    print(\"GPU is available\")    \n",
    "else:\n",
    "    device = torch.device(\"cpu\")\n",
    "    print(\"GPU not available, CPU used\")"
   ]
  },
  {
   "cell_type": "code",
   "execution_count": 340,
   "metadata": {
    "id": "DwvhU9Y8l45m"
   },
   "outputs": [],
   "source": [
    "model = Model_bi(input_size = 80, output_size = 2, hidden_dim = 10, n_layers = 1, device = device)\n",
    "model = model.to(device)"
   ]
  },
  {
   "cell_type": "code",
   "execution_count": 348,
   "metadata": {
    "id": "Z1LDWNTil6NX"
   },
   "outputs": [],
   "source": [
    "n_epochs = 200\n",
    "lr=0.01*2\n",
    "\n",
    "# Define Loss, Optimizer\n",
    "criterion = nn.CrossEntropyLoss()\n",
    "optimizer = torch.optim.Adam(model.parameters(), lr=lr)"
   ]
  },
  {
   "cell_type": "code",
   "execution_count": 349,
   "metadata": {
    "colab": {
     "base_uri": "https://localhost:8080/"
    },
    "id": "FQxePz9jl8Kr",
    "outputId": "bed05622-74ea-477c-adeb-c3454d2c4617"
   },
   "outputs": [
    {
     "name": "stdout",
     "output_type": "stream",
     "text": [
      "Epoch: 1/200............. Loss Train Epoch: 0.4111............. Time Epoch: 0.14556193351745605\n",
      "Epoch: 2/200............. Loss Train Epoch: 0.4115............. Time Epoch: 0.1337277889251709\n",
      "Epoch: 3/200............. Loss Train Epoch: 0.4118............. Time Epoch: 0.13300037384033203\n",
      "Epoch: 4/200............. Loss Train Epoch: 0.4121............. Time Epoch: 0.13379216194152832\n",
      "Epoch: 5/200............. Loss Train Epoch: 0.4118............. Time Epoch: 0.131819486618042\n",
      "Epoch: 6/200............. Loss Train Epoch: 0.4120............. Time Epoch: 0.1328575611114502\n",
      "Epoch: 7/200............. Loss Train Epoch: 0.4120............. Time Epoch: 0.13203644752502441\n",
      "Epoch: 8/200............. Loss Train Epoch: 0.4130............. Time Epoch: 0.13383126258850098\n",
      "Epoch: 9/200............. Loss Train Epoch: 0.4133............. Time Epoch: 0.132765531539917\n",
      "Epoch: 10/200............. Loss Train Epoch: 0.4130............. Time Epoch: 0.13311266899108887\n",
      "Epoch: 11/200............. Loss Train Epoch: 0.4133............. Time Epoch: 0.1332714557647705\n",
      "Epoch: 12/200............. Loss Train Epoch: 0.4139............. Time Epoch: 0.1325395107269287\n",
      "Epoch: 13/200............. Loss Train Epoch: 0.4130............. Time Epoch: 0.1334075927734375\n",
      "Epoch: 14/200............. Loss Train Epoch: 0.4125............. Time Epoch: 0.13234567642211914\n",
      "Epoch: 15/200............. Loss Train Epoch: 0.4123............. Time Epoch: 0.13264727592468262\n",
      "Epoch: 16/200............. Loss Train Epoch: 0.4121............. Time Epoch: 0.13256478309631348\n",
      "Epoch: 17/200............. Loss Train Epoch: 0.4124............. Time Epoch: 0.13301301002502441\n",
      "Epoch: 18/200............. Loss Train Epoch: 0.4138............. Time Epoch: 0.13274097442626953\n",
      "Epoch: 19/200............. Loss Train Epoch: 0.4150............. Time Epoch: 0.13242483139038086\n",
      "Epoch: 20/200............. Loss Train Epoch: 0.4163............. Time Epoch: 0.13336491584777832\n",
      "Epoch: 21/200............. Loss Train Epoch: 0.4175............. Time Epoch: 0.13254737854003906\n",
      "Epoch: 22/200............. Loss Train Epoch: 0.4171............. Time Epoch: 0.13282513618469238\n",
      "Epoch: 23/200............. Loss Train Epoch: 0.4172............. Time Epoch: 0.13300395011901855\n",
      "Epoch: 24/200............. Loss Train Epoch: 0.4169............. Time Epoch: 0.13273119926452637\n",
      "Epoch: 25/200............. Loss Train Epoch: 0.4168............. Time Epoch: 0.1329786777496338\n",
      "Epoch: 26/200............. Loss Train Epoch: 0.4165............. Time Epoch: 0.13245272636413574\n",
      "Epoch: 27/200............. Loss Train Epoch: 0.4164............. Time Epoch: 0.1326608657836914\n",
      "Epoch: 28/200............. Loss Train Epoch: 0.4161............. Time Epoch: 0.13271498680114746\n",
      "Epoch: 29/200............. Loss Train Epoch: 0.4161............. Time Epoch: 0.13250350952148438\n",
      "Epoch: 30/200............. Loss Train Epoch: 0.4160............. Time Epoch: 0.13370728492736816\n",
      "Epoch: 31/200............. Loss Train Epoch: 0.4158............. Time Epoch: 0.13316750526428223\n",
      "Epoch: 32/200............. Loss Train Epoch: 0.4154............. Time Epoch: 0.1330413818359375\n",
      "Epoch: 33/200............. Loss Train Epoch: 0.4153............. Time Epoch: 0.13294696807861328\n",
      "Epoch: 34/200............. Loss Train Epoch: 0.4148............. Time Epoch: 0.13282370567321777\n",
      "Epoch: 35/200............. Loss Train Epoch: 0.4144............. Time Epoch: 0.1333625316619873\n",
      "Epoch: 36/200............. Loss Train Epoch: 0.4142............. Time Epoch: 0.13252687454223633\n",
      "Epoch: 37/200............. Loss Train Epoch: 0.4140............. Time Epoch: 0.1325218677520752\n",
      "Epoch: 38/200............. Loss Train Epoch: 0.4138............. Time Epoch: 0.13318943977355957\n",
      "Epoch: 39/200............. Loss Train Epoch: 0.4136............. Time Epoch: 0.1328294277191162\n",
      "Epoch: 40/200............. Loss Train Epoch: 0.4135............. Time Epoch: 0.1327347755432129\n",
      "Epoch: 41/200............. Loss Train Epoch: 0.4134............. Time Epoch: 0.13327336311340332\n",
      "Epoch: 42/200............. Loss Train Epoch: 0.4131............. Time Epoch: 0.13355398178100586\n",
      "Epoch: 43/200............. Loss Train Epoch: 0.4131............. Time Epoch: 0.13266515731811523\n",
      "Epoch: 44/200............. Loss Train Epoch: 0.4131............. Time Epoch: 0.13292670249938965\n",
      "Epoch: 45/200............. Loss Train Epoch: 0.4131............. Time Epoch: 0.1326005458831787\n",
      "Epoch: 46/200............. Loss Train Epoch: 0.4129............. Time Epoch: 0.13311982154846191\n",
      "Epoch: 47/200............. Loss Train Epoch: 0.4131............. Time Epoch: 0.1324779987335205\n",
      "Epoch: 48/200............. Loss Train Epoch: 0.4129............. Time Epoch: 0.13296151161193848\n",
      "Epoch: 49/200............. Loss Train Epoch: 0.4127............. Time Epoch: 0.1329193115234375\n",
      "Epoch: 50/200............. Loss Train Epoch: 0.4127............. Time Epoch: 0.13337278366088867\n",
      "Epoch: 51/200............. Loss Train Epoch: 0.4125............. Time Epoch: 0.13272690773010254\n",
      "Epoch: 52/200............. Loss Train Epoch: 0.4125............. Time Epoch: 0.13320040702819824\n",
      "Epoch: 53/200............. Loss Train Epoch: 0.4125............. Time Epoch: 0.13243627548217773\n",
      "Epoch: 54/200............. Loss Train Epoch: 0.4127............. Time Epoch: 0.13331103324890137\n",
      "Epoch: 55/200............. Loss Train Epoch: 0.4125............. Time Epoch: 0.13258647918701172\n",
      "Epoch: 56/200............. Loss Train Epoch: 0.4125............. Time Epoch: 0.13313007354736328\n",
      "Epoch: 57/200............. Loss Train Epoch: 0.4125............. Time Epoch: 0.1324448585510254\n",
      "Epoch: 58/200............. Loss Train Epoch: 0.4125............. Time Epoch: 0.13312125205993652\n",
      "Epoch: 59/200............. Loss Train Epoch: 0.4124............. Time Epoch: 0.1325531005859375\n",
      "Epoch: 60/200............. Loss Train Epoch: 0.4123............. Time Epoch: 0.13295793533325195\n",
      "Epoch: 61/200............. Loss Train Epoch: 0.4122............. Time Epoch: 0.13260173797607422\n",
      "Epoch: 62/200............. Loss Train Epoch: 0.4122............. Time Epoch: 0.13343453407287598\n",
      "Epoch: 63/200............. Loss Train Epoch: 0.4123............. Time Epoch: 0.13161778450012207\n",
      "Epoch: 64/200............. Loss Train Epoch: 0.4122............. Time Epoch: 0.13220977783203125\n",
      "Epoch: 65/200............. Loss Train Epoch: 0.4122............. Time Epoch: 0.1327676773071289\n",
      "Epoch: 66/200............. Loss Train Epoch: 0.4123............. Time Epoch: 0.1327664852142334\n",
      "Epoch: 67/200............. Loss Train Epoch: 0.4122............. Time Epoch: 0.13470125198364258\n",
      "Epoch: 68/200............. Loss Train Epoch: 0.4123............. Time Epoch: 0.13318896293640137\n",
      "Epoch: 69/200............. Loss Train Epoch: 0.4121............. Time Epoch: 0.13253331184387207\n",
      "Epoch: 70/200............. Loss Train Epoch: 0.4122............. Time Epoch: 0.13330459594726562\n",
      "Epoch: 71/200............. Loss Train Epoch: 0.4122............. Time Epoch: 0.13275790214538574\n",
      "Epoch: 72/200............. Loss Train Epoch: 0.4120............. Time Epoch: 0.13170456886291504\n",
      "Epoch: 73/200............. Loss Train Epoch: 0.4120............. Time Epoch: 0.13239359855651855\n",
      "Epoch: 74/200............. Loss Train Epoch: 0.4120............. Time Epoch: 0.13286113739013672\n",
      "Epoch: 75/200............. Loss Train Epoch: 0.4119............. Time Epoch: 0.13306522369384766\n",
      "Epoch: 76/200............. Loss Train Epoch: 0.4116............. Time Epoch: 0.13300466537475586\n",
      "Epoch: 77/200............. Loss Train Epoch: 0.4116............. Time Epoch: 0.1325666904449463\n",
      "Epoch: 78/200............. Loss Train Epoch: 0.4116............. Time Epoch: 0.13337993621826172\n",
      "Epoch: 79/200............. Loss Train Epoch: 0.4115............. Time Epoch: 0.13251829147338867\n",
      "Epoch: 80/200............. Loss Train Epoch: 0.4114............. Time Epoch: 0.1330859661102295\n",
      "Epoch: 81/200............. Loss Train Epoch: 0.4114............. Time Epoch: 0.13262462615966797\n",
      "Epoch: 82/200............. Loss Train Epoch: 0.4114............. Time Epoch: 0.13351726531982422\n",
      "Epoch: 83/200............. Loss Train Epoch: 0.4115............. Time Epoch: 0.13188886642456055\n",
      "Epoch: 84/200............. Loss Train Epoch: 0.4113............. Time Epoch: 0.1331017017364502\n",
      "Epoch: 85/200............. Loss Train Epoch: 0.4113............. Time Epoch: 0.13305187225341797\n",
      "Epoch: 86/200............. Loss Train Epoch: 0.4113............. Time Epoch: 0.13316130638122559\n",
      "Epoch: 87/200............. Loss Train Epoch: 0.4113............. Time Epoch: 0.13264918327331543\n",
      "Epoch: 88/200............. Loss Train Epoch: 0.4113............. Time Epoch: 0.13340425491333008\n",
      "Epoch: 89/200............. Loss Train Epoch: 0.4112............. Time Epoch: 0.13245916366577148\n",
      "Epoch: 90/200............. Loss Train Epoch: 0.4112............. Time Epoch: 0.13287115097045898\n",
      "Epoch: 91/200............. Loss Train Epoch: 0.4112............. Time Epoch: 0.13460040092468262\n",
      "Epoch: 92/200............. Loss Train Epoch: 0.4112............. Time Epoch: 0.13292551040649414\n",
      "Epoch: 93/200............. Loss Train Epoch: 0.4111............. Time Epoch: 0.13283777236938477\n",
      "Epoch: 94/200............. Loss Train Epoch: 0.4112............. Time Epoch: 0.13309121131896973\n",
      "Epoch: 95/200............. Loss Train Epoch: 0.4112............. Time Epoch: 0.13215303421020508\n",
      "Epoch: 96/200............. Loss Train Epoch: 0.4111............. Time Epoch: 0.13236236572265625\n",
      "Epoch: 97/200............. Loss Train Epoch: 0.4109............. Time Epoch: 0.1326448917388916\n",
      "Epoch: 98/200............. Loss Train Epoch: 0.4108............. Time Epoch: 0.13318610191345215\n",
      "Epoch: 99/200............. Loss Train Epoch: 0.4109............. Time Epoch: 0.1322498321533203\n",
      "Epoch: 100/200............. Loss Train Epoch: 0.4109............. Time Epoch: 0.13251900672912598\n",
      "Epoch: 101/200............. Loss Train Epoch: 0.4112............. Time Epoch: 0.1326618194580078\n",
      "Epoch: 102/200............. Loss Train Epoch: 0.4112............. Time Epoch: 0.13279414176940918\n",
      "Epoch: 103/200............. Loss Train Epoch: 0.4110............. Time Epoch: 0.1325852870941162\n",
      "Epoch: 104/200............. Loss Train Epoch: 0.4110............. Time Epoch: 0.13298439979553223\n",
      "Epoch: 105/200............. Loss Train Epoch: 0.4110............. Time Epoch: 0.13265419006347656\n",
      "Epoch: 106/200............. Loss Train Epoch: 0.4110............. Time Epoch: 0.13301420211791992\n",
      "Epoch: 107/200............. Loss Train Epoch: 0.4109............. Time Epoch: 0.13268470764160156\n",
      "Epoch: 108/200............. Loss Train Epoch: 0.4114............. Time Epoch: 0.1318833827972412\n",
      "Epoch: 109/200............. Loss Train Epoch: 0.4113............. Time Epoch: 0.13209128379821777\n",
      "Epoch: 110/200............. Loss Train Epoch: 0.4116............. Time Epoch: 0.13315606117248535\n",
      "Epoch: 111/200............. Loss Train Epoch: 0.4116............. Time Epoch: 0.13269686698913574\n",
      "Epoch: 112/200............. Loss Train Epoch: 0.4114............. Time Epoch: 0.13260674476623535\n",
      "Epoch: 113/200............. Loss Train Epoch: 0.4113............. Time Epoch: 0.13292360305786133\n",
      "Epoch: 114/200............. Loss Train Epoch: 0.4112............. Time Epoch: 0.13244366645812988\n",
      "Epoch: 115/200............. Loss Train Epoch: 0.4110............. Time Epoch: 0.13199734687805176\n",
      "Epoch: 116/200............. Loss Train Epoch: 0.4110............. Time Epoch: 0.13247203826904297\n",
      "Epoch: 117/200............. Loss Train Epoch: 0.4111............. Time Epoch: 0.13246631622314453\n",
      "Epoch: 118/200............. Loss Train Epoch: 0.4112............. Time Epoch: 0.13312411308288574\n",
      "Epoch: 119/200............. Loss Train Epoch: 0.4114............. Time Epoch: 0.13274598121643066\n",
      "Epoch: 120/200............. Loss Train Epoch: 0.4114............. Time Epoch: 0.13307499885559082\n",
      "Epoch: 121/200............. Loss Train Epoch: 0.4114............. Time Epoch: 0.1311962604522705\n",
      "Epoch: 122/200............. Loss Train Epoch: 0.4114............. Time Epoch: 0.13292622566223145\n",
      "Epoch: 123/200............. Loss Train Epoch: 0.4114............. Time Epoch: 0.13268351554870605\n",
      "Epoch: 124/200............. Loss Train Epoch: 0.4114............. Time Epoch: 0.13358163833618164\n",
      "Epoch: 125/200............. Loss Train Epoch: 0.4114............. Time Epoch: 0.13270854949951172\n",
      "Epoch: 126/200............. Loss Train Epoch: 0.4114............. Time Epoch: 0.13211965560913086\n",
      "Epoch: 127/200............. Loss Train Epoch: 0.4114............. Time Epoch: 0.13312649726867676\n",
      "Epoch: 128/200............. Loss Train Epoch: 0.4113............. Time Epoch: 0.13306164741516113\n",
      "Epoch: 129/200............. Loss Train Epoch: 0.4111............. Time Epoch: 0.13236689567565918\n",
      "Epoch: 130/200............. Loss Train Epoch: 0.4111............. Time Epoch: 0.1323680877685547\n",
      "Epoch: 131/200............. Loss Train Epoch: 0.4110............. Time Epoch: 0.13013839721679688\n",
      "Epoch: 132/200............. Loss Train Epoch: 0.4110............. Time Epoch: 0.13274908065795898\n",
      "Epoch: 133/200............. Loss Train Epoch: 0.4110............. Time Epoch: 0.13243389129638672\n",
      "Epoch: 134/200............. Loss Train Epoch: 0.4110............. Time Epoch: 0.13228178024291992\n",
      "Epoch: 135/200............. Loss Train Epoch: 0.4110............. Time Epoch: 0.13171672821044922\n",
      "Epoch: 136/200............. Loss Train Epoch: 0.4110............. Time Epoch: 0.13297796249389648\n",
      "Epoch: 137/200............. Loss Train Epoch: 0.4110............. Time Epoch: 0.13239026069641113\n",
      "Epoch: 138/200............. Loss Train Epoch: 0.4110............. Time Epoch: 0.13312029838562012\n",
      "Epoch: 139/200............. Loss Train Epoch: 0.4110............. Time Epoch: 0.13251280784606934\n",
      "Epoch: 140/200............. Loss Train Epoch: 0.4110............. Time Epoch: 0.13292288780212402\n",
      "Epoch: 141/200............. Loss Train Epoch: 0.4109............. Time Epoch: 0.13259220123291016\n",
      "Epoch: 142/200............. Loss Train Epoch: 0.4108............. Time Epoch: 0.13314223289489746\n",
      "Epoch: 143/200............. Loss Train Epoch: 0.4108............. Time Epoch: 0.13242292404174805\n",
      "Epoch: 144/200............. Loss Train Epoch: 0.4108............. Time Epoch: 0.1323237419128418\n",
      "Epoch: 145/200............. Loss Train Epoch: 0.4108............. Time Epoch: 0.13426494598388672\n",
      "Epoch: 146/200............. Loss Train Epoch: 0.4108............. Time Epoch: 0.1314835548400879\n",
      "Epoch: 147/200............. Loss Train Epoch: 0.4108............. Time Epoch: 0.13238167762756348\n",
      "Epoch: 148/200............. Loss Train Epoch: 0.4109............. Time Epoch: 0.13217616081237793\n",
      "Epoch: 149/200............. Loss Train Epoch: 0.4109............. Time Epoch: 0.13225746154785156\n",
      "Epoch: 150/200............. Loss Train Epoch: 0.4109............. Time Epoch: 0.1334068775177002\n",
      "Epoch: 151/200............. Loss Train Epoch: 0.4109............. Time Epoch: 0.13168716430664062\n",
      "Epoch: 152/200............. Loss Train Epoch: 0.4109............. Time Epoch: 0.13289976119995117\n",
      "Epoch: 153/200............. Loss Train Epoch: 0.4109............. Time Epoch: 0.13265538215637207\n",
      "Epoch: 154/200............. Loss Train Epoch: 0.4109............. Time Epoch: 0.13239169120788574\n",
      "Epoch: 155/200............. Loss Train Epoch: 0.4106............. Time Epoch: 0.13247442245483398\n",
      "Epoch: 156/200............. Loss Train Epoch: 0.4106............. Time Epoch: 0.13290643692016602\n",
      "Epoch: 157/200............. Loss Train Epoch: 0.4106............. Time Epoch: 0.1322765350341797\n",
      "Epoch: 158/200............. Loss Train Epoch: 0.4106............. Time Epoch: 0.13208484649658203\n",
      "Epoch: 159/200............. Loss Train Epoch: 0.4106............. Time Epoch: 0.132063627243042\n",
      "Epoch: 160/200............. Loss Train Epoch: 0.4106............. Time Epoch: 0.13262486457824707\n",
      "Epoch: 161/200............. Loss Train Epoch: 0.4106............. Time Epoch: 0.1333000659942627\n",
      "Epoch: 162/200............. Loss Train Epoch: 0.4106............. Time Epoch: 0.13285040855407715\n",
      "Epoch: 163/200............. Loss Train Epoch: 0.4105............. Time Epoch: 0.13210487365722656\n",
      "Epoch: 164/200............. Loss Train Epoch: 0.4104............. Time Epoch: 0.1330254077911377\n",
      "Epoch: 165/200............. Loss Train Epoch: 0.4103............. Time Epoch: 0.13292956352233887\n",
      "Epoch: 166/200............. Loss Train Epoch: 0.4103............. Time Epoch: 0.13286352157592773\n",
      "Epoch: 167/200............. Loss Train Epoch: 0.4103............. Time Epoch: 0.13260316848754883\n",
      "Epoch: 168/200............. Loss Train Epoch: 0.4103............. Time Epoch: 0.13262701034545898\n",
      "Epoch: 169/200............. Loss Train Epoch: 0.4103............. Time Epoch: 0.1324014663696289\n",
      "Epoch: 170/200............. Loss Train Epoch: 0.4103............. Time Epoch: 0.1334085464477539\n",
      "Epoch: 171/200............. Loss Train Epoch: 0.4103............. Time Epoch: 0.1321275234222412\n",
      "Epoch: 172/200............. Loss Train Epoch: 0.4103............. Time Epoch: 0.13263559341430664\n",
      "Epoch: 173/200............. Loss Train Epoch: 0.4103............. Time Epoch: 0.13190126419067383\n",
      "Epoch: 174/200............. Loss Train Epoch: 0.4103............. Time Epoch: 0.13214826583862305\n",
      "Epoch: 175/200............. Loss Train Epoch: 0.4103............. Time Epoch: 0.13216304779052734\n",
      "Epoch: 176/200............. Loss Train Epoch: 0.4103............. Time Epoch: 0.13277101516723633\n",
      "Epoch: 177/200............. Loss Train Epoch: 0.4103............. Time Epoch: 0.13250994682312012\n",
      "Epoch: 178/200............. Loss Train Epoch: 0.4103............. Time Epoch: 0.13242292404174805\n",
      "Epoch: 179/200............. Loss Train Epoch: 0.4103............. Time Epoch: 0.13310027122497559\n",
      "Epoch: 180/200............. Loss Train Epoch: 0.4103............. Time Epoch: 0.13289356231689453\n",
      "Epoch: 181/200............. Loss Train Epoch: 0.4103............. Time Epoch: 0.13245725631713867\n",
      "Epoch: 182/200............. Loss Train Epoch: 0.4103............. Time Epoch: 0.13271713256835938\n",
      "Epoch: 183/200............. Loss Train Epoch: 0.4103............. Time Epoch: 0.13234543800354004\n",
      "Epoch: 184/200............. Loss Train Epoch: 0.4103............. Time Epoch: 0.13332748413085938\n",
      "Epoch: 185/200............. Loss Train Epoch: 0.4103............. Time Epoch: 0.1320643424987793\n",
      "Epoch: 186/200............. Loss Train Epoch: 0.4103............. Time Epoch: 0.1328105926513672\n",
      "Epoch: 187/200............. Loss Train Epoch: 0.4103............. Time Epoch: 0.1325080394744873\n",
      "Epoch: 188/200............. Loss Train Epoch: 0.4103............. Time Epoch: 0.13300132751464844\n",
      "Epoch: 189/200............. Loss Train Epoch: 0.4103............. Time Epoch: 0.13307929039001465\n",
      "Epoch: 190/200............. Loss Train Epoch: 0.4103............. Time Epoch: 0.1327662467956543\n",
      "Epoch: 191/200............. Loss Train Epoch: 0.4103............. Time Epoch: 0.13256025314331055\n",
      "Epoch: 192/200............. Loss Train Epoch: 0.4103............. Time Epoch: 0.131819486618042\n",
      "Epoch: 193/200............. Loss Train Epoch: 0.4103............. Time Epoch: 0.1326465606689453\n",
      "Epoch: 194/200............. Loss Train Epoch: 0.4103............. Time Epoch: 0.13274478912353516\n",
      "Epoch: 195/200............. Loss Train Epoch: 0.4103............. Time Epoch: 0.13206267356872559\n",
      "Epoch: 196/200............. Loss Train Epoch: 0.4102............. Time Epoch: 0.1326770782470703\n",
      "Epoch: 197/200............. Loss Train Epoch: 0.4102............. Time Epoch: 0.13364338874816895\n",
      "Epoch: 198/200............. Loss Train Epoch: 0.4102............. Time Epoch: 0.13243842124938965\n",
      "Epoch: 199/200............. Loss Train Epoch: 0.4102............. Time Epoch: 0.13223886489868164\n",
      "Epoch: 200/200............. Loss Train Epoch: 0.4102............. Time Epoch: 0.1333155632019043\n"
     ]
    }
   ],
   "source": [
    "# Entrenamiento\n",
    "\n",
    "epocas_totales_bi = []\n",
    "loss_train_totales_bi = []\n",
    "\n",
    "for epoch in range(1, n_epochs + 1):\n",
    "\n",
    "  start = time.time()\n",
    "\n",
    "  model.train()\n",
    "\n",
    "  optimizer.zero_grad() # Clears existing gradients from previous epoch\n",
    "  output, _ = model(input_seq_train)\n",
    "\n",
    "  output_1 = output[0: int(len(output)/2)]\n",
    "  output_2 = output[int(len(output)/2): len(output)]\n",
    "\n",
    "  loss_train_1 = criterion(output_1, target_seq_train.view(-1).long())\n",
    "  loss_train_2 = criterion(output_2, target_seq_train.view(-1).long())\n",
    "\n",
    "  loss_train = (loss_train_1+loss_train_2)/2\n",
    "\n",
    "  loss_train.backward() # Does backpropagation and calculates gradients\n",
    "  optimizer.step() # Updates the weights accordingly\n",
    "\n",
    "  epocas_totales_bi.append(epoch)\n",
    "  loss_train_totales_bi.append(loss_train)\n",
    "\n",
    "  end = time.time()\n",
    "\n",
    "  print('Epoch: {}/{}.............'.format(epoch, n_epochs), end=' ')\n",
    "  print(\"Loss Train Epoch: {:.4f}.............\".format(loss_train.item()), end =' ')\n",
    "  print(\"Time Epoch: {}\".format(end-start))"
   ]
  },
  {
   "cell_type": "markdown",
   "metadata": {
    "id": "vv9jPQbYm4G7"
   },
   "source": [
    "**Evolución de la funcion de perdida**"
   ]
  },
  {
   "cell_type": "code",
   "execution_count": 350,
   "metadata": {
    "colab": {
     "base_uri": "https://localhost:8080/",
     "height": 428
    },
    "id": "lYS2_LTVm4HD",
    "outputId": "25405953-bc49-4dd5-a148-8b4d89358a12"
   },
   "outputs": [
    {
     "data": {
      "image/png": "[encoded data removed]",
      "text/plain": [
       "<Figure size 720x504 with 1 Axes>"
      ]
     },
     "metadata": {
      "needs_background": "light",
      "tags": []
     },
     "output_type": "display_data"
    }
   ],
   "source": [
    "plt.figure(figsize=(10,7))\n",
    "\n",
    "plt.plot(epocas_totales_bi, loss_train_totales_bi, color = \"red\")\n",
    "\n",
    "plt.legend(['Perdida de Entrenamiento bidireccional'], loc='upper left')\n",
    "\n",
    "plt.show()"
   ]
  },
  {
   "cell_type": "markdown",
   "metadata": {
    "id": "g6emmR8hm4HD"
   },
   "source": [
    "$ \\underline{Comentario: }  $ Notemos que el modelo le cuesta converger a un valor optimo, sin embargo, igual lo termina haciendo, pero necesita más epocas para lograr este objetivo."
   ]
  },
  {
   "cell_type": "markdown",
   "metadata": {
    "id": "-xA4G2WAm4HD"
   },
   "source": [
    "**Reporte de resultados RNN bidireccional**"
   ]
  },
  {
   "cell_type": "markdown",
   "metadata": {
    "id": "Q-6ebkdZm4HE"
   },
   "source": [
    "Ahora para el modelo ya entrenado, reportaremos la precisión en los sets de:\n",
    "\n",
    "a. Entrenamiento. $ \\\\ $\n",
    "\n",
    "b. Validación. $ \\\\ $\n",
    "\n",
    "b. Test. $ \\\\ $"
   ]
  },
  {
   "cell_type": "markdown",
   "metadata": {
    "id": "F0fBznu6m4HE"
   },
   "source": [
    "**Desempeño en el train set**"
   ]
  },
  {
   "cell_type": "code",
   "execution_count": 351,
   "metadata": {
    "colab": {
     "base_uri": "https://localhost:8080/"
    },
    "id": "9L_em_Ilm4HE",
    "outputId": "d25e15ef-25fb-4c98-a82b-ee578ae49cbd"
   },
   "outputs": [
    {
     "name": "stdout",
     "output_type": "stream",
     "text": [
      "Precisión en el train set:  91.44\n"
     ]
    }
   ],
   "source": [
    "model.eval()\n",
    "output_train, _ = model(input_seq_train)\n",
    "output_train_1 = output_train[0: int(len(output_train)/2)]\n",
    "pred_train = calcular_predicciones(output_train_1)\n",
    "prec_train = calcular_precicision(pred_train, label_train)\n",
    "print(\"Precisión en el train set: \", round(prec_train*100, 2))"
   ]
  },
  {
   "cell_type": "markdown",
   "metadata": {
    "id": "RQ6oWC2Wm4HE"
   },
   "source": [
    "$ \\underline{Comentario:} $ La precisión en el **train set** es de $91,44 \\% $."
   ]
  },
  {
   "cell_type": "markdown",
   "metadata": {
    "id": "rzmXbZg8m4HF"
   },
   "source": [
    "**Desempeño en el val set**"
   ]
  },
  {
   "cell_type": "code",
   "execution_count": 352,
   "metadata": {
    "colab": {
     "base_uri": "https://localhost:8080/"
    },
    "id": "lvfF280nm4HF",
    "outputId": "ea33d1d9-36d0-4896-d4e7-cec57e8d5331"
   },
   "outputs": [
    {
     "name": "stdout",
     "output_type": "stream",
     "text": [
      "Precisión en el val set:  86.1\n"
     ]
    }
   ],
   "source": [
    "model.eval()\n",
    "output_val, _ = model(input_seq_val)\n",
    "output_val_1 = output_val[0: int(len(output_val)/2)]\n",
    "pred_val = calcular_predicciones(output_val_1)\n",
    "prec_val = calcular_precicision(pred_val, label_val)\n",
    "print(\"Precisión en el val set: \", round(prec_val*100, 2))"
   ]
  },
  {
   "cell_type": "markdown",
   "metadata": {
    "id": "BFvM6MbDm4HF"
   },
   "source": [
    "$ \\underline{Comentario:} $ La precisión en el **val set** es de $86,1 \\% $."
   ]
  },
  {
   "cell_type": "markdown",
   "metadata": {
    "id": "8U0wib5hm4HG"
   },
   "source": [
    "**Desempeño en el test set**"
   ]
  },
  {
   "cell_type": "code",
   "execution_count": 353,
   "metadata": {
    "colab": {
     "base_uri": "https://localhost:8080/"
    },
    "id": "xWO0bdpJm4HG",
    "outputId": "7a38c143-a7f6-4465-a14f-0425476b2a52"
   },
   "outputs": [
    {
     "name": "stdout",
     "output_type": "stream",
     "text": [
      "Precisión en el test set:  85.48\n"
     ]
    }
   ],
   "source": [
    "model.eval()\n",
    "output_test, _ = model(input_seq_test)\n",
    "output_test_1 = output_test[0: int(len(output_test)/2)]\n",
    "pred_test = calcular_predicciones(output_test_1)\n",
    "prec_test = calcular_precicision(pred_test, label_test)\n",
    "print(\"Precisión en el test set: \", round(prec_test*100, 2))"
   ]
  },
  {
   "cell_type": "markdown",
   "metadata": {
    "id": "3Jk8E0LTm4HG"
   },
   "source": [
    "$ \\underline{Comentario:} $ La precisión en el **test set** es de $85,48 \\% $."
   ]
  },
  {
   "cell_type": "markdown",
   "metadata": {
    "id": "1y7xMz4tm4HG"
   },
   "source": [
    "$ \\underline{Comentario \\ general:} $ \n",
    "\n",
    "Notemos que la precisión en el train set es bastante mayor que en el val y test set, por ende, esto nos habla de que **no hay overfitting** y además de eso llegamos a un muy buen valor de clasificación."
   ]
  },
  {
   "cell_type": "markdown",
   "metadata": {
    "id": "WK4rdx4nnlsa"
   },
   "source": [
    "$ \\huge{2. \\ Red \\  Siamesa \\ para \\ aprendizaje \\ de \\ similitud } $"
   ]
  },
  {
   "cell_type": "markdown",
   "metadata": {
    "id": "kPTX4dAY4YCe"
   },
   "source": [
    "## Actividad 6: "
   ]
  },
  {
   "cell_type": "code",
   "execution_count": null,
   "metadata": {
    "id": "WD8x8MI8j42C"
   },
   "outputs": [],
   "source": []
  },
  {
   "cell_type": "code",
   "execution_count": null,
   "metadata": {
    "id": "YiIdPCidnXGo"
   },
   "outputs": [],
   "source": []
  }
 ],
 "metadata": {
  "accelerator": "GPU",
  "colab": {
   "name": "Tarea_2_Alberto_Valdes_P1.ipynb",
   "provenance": [],
   "toc_visible": true
  },
  "kernelspec": {
   "display_name": "Python 3",
   "language": "python",
   "name": "python3"
  },
  "language_info": {
   "codemirror_mode": {
    "name": "ipython",
    "version": 3
   },
   "file_extension": ".py",
   "mimetype": "text/x-python",
   "name": "python",
   "nbconvert_exporter": "python",
   "pygments_lexer": "ipython3",
   "version": "3.7.10"
  }
 },
 "nbformat": 4,
 "nbformat_minor": 1
}
